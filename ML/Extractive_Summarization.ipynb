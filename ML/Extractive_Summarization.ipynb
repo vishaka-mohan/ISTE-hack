{
  "nbformat": 4,
  "nbformat_minor": 0,
  "metadata": {
    "kernelspec": {
      "display_name": "Python 3",
      "language": "python",
      "name": "python3"
    },
    "language_info": {
      "codemirror_mode": {
        "name": "ipython",
        "version": 3
      },
      "file_extension": ".py",
      "mimetype": "text/x-python",
      "name": "python",
      "nbconvert_exporter": "python",
      "pygments_lexer": "ipython3",
      "version": "3.7.3"
    },
    "varInspector": {
      "cols": {
        "lenName": 16,
        "lenType": 16,
        "lenVar": 40
      },
      "kernels_config": {
        "python": {
          "delete_cmd_postfix": "",
          "delete_cmd_prefix": "del ",
          "library": "var_list.py",
          "varRefreshCmd": "print(var_dic_list())"
        },
        "r": {
          "delete_cmd_postfix": ") ",
          "delete_cmd_prefix": "rm(",
          "library": "var_list.r",
          "varRefreshCmd": "cat(var_dic_list()) "
        }
      },
      "oldHeight": 122.85,
      "position": {
        "height": "40px",
        "left": "1266px",
        "right": "20px",
        "top": "120px",
        "width": "250px"
      },
      "types_to_exclude": [
        "module",
        "function",
        "builtin_function_or_method",
        "instance",
        "_Feature"
      ],
      "varInspector_section_display": "none",
      "window_display": false
    },
    "colab": {
      "name": "Extractive-Summarization.ipynb",
      "provenance": [],
      "collapsed_sections": []
    }
  },
  "cells": [
    {
      "cell_type": "markdown",
      "metadata": {
        "id": "jdCYa6wgP4jg",
        "colab_type": "text"
      },
      "source": [
        "# Extractive Summarization of Research Papers\n",
        "Team Members:<br>\n",
        "<ul>\n",
        "    <li>Janani Arunachalam</li>\n",
        "    <li>Kevin Thomas</li>\n",
        "</ul>"
      ]
    },
    {
      "cell_type": "code",
      "metadata": {
        "id": "ITw6QWCmQGL8",
        "colab_type": "code",
        "outputId": "fe3f078d-61b2-48b1-dc8a-a7b04744c0f6",
        "colab": {
          "base_uri": "https://localhost:8080/",
          "height": 54
        }
      },
      "source": [
        "# --- Mounting drive --- \n",
        "\n",
        "\n",
        "from google.colab import drive\n",
        "drive.mount('/content/drive')"
      ],
      "execution_count": 0,
      "outputs": [
        {
          "output_type": "stream",
          "text": [
            "Drive already mounted at /content/drive; to attempt to forcibly remount, call drive.mount(\"/content/drive\", force_remount=True).\n"
          ],
          "name": "stdout"
        }
      ]
    },
    {
      "cell_type": "code",
      "metadata": {
        "id": "TRdsQ98lQqoD",
        "colab_type": "code",
        "outputId": "5a1edea2-d618-49a2-8849-b2d2d9124d28",
        "colab": {
          "base_uri": "https://localhost:8080/",
          "height": 257
        }
      },
      "source": [
        "# --- tqdm version 4.36.1 is required --- \n",
        "\n",
        "\n",
        "!pip install tqdm==4.36.1"
      ],
      "execution_count": 0,
      "outputs": [
        {
          "output_type": "stream",
          "text": [
            "Collecting tqdm==4.36.1\n",
            "\u001b[?25l  Downloading https://files.pythonhosted.org/packages/e1/c1/bc1dba38b48f4ae3c4428aea669c5e27bd5a7642a74c8348451e0bd8ff86/tqdm-4.36.1-py2.py3-none-any.whl (52kB)\n",
            "\r\u001b[K     |██████▏                         | 10kB 16.9MB/s eta 0:00:01\r\u001b[K     |████████████▍                   | 20kB 3.2MB/s eta 0:00:01\r\u001b[K     |██████████████████▋             | 30kB 4.6MB/s eta 0:00:01\r\u001b[K     |████████████████████████▉       | 40kB 3.0MB/s eta 0:00:01\r\u001b[K     |███████████████████████████████ | 51kB 3.6MB/s eta 0:00:01\r\u001b[K     |████████████████████████████████| 61kB 2.9MB/s \n",
            "\u001b[?25hInstalling collected packages: tqdm\n",
            "  Found existing installation: tqdm 4.28.1\n",
            "    Uninstalling tqdm-4.28.1:\n",
            "      Successfully uninstalled tqdm-4.28.1\n",
            "Successfully installed tqdm-4.36.1\n"
          ],
          "name": "stdout"
        },
        {
          "output_type": "display_data",
          "data": {
            "application/vnd.colab-display-data+json": {
              "pip_warning": {
                "packages": [
                  "tqdm"
                ]
              }
            }
          },
          "metadata": {
            "tags": []
          }
        }
      ]
    },
    {
      "cell_type": "code",
      "metadata": {
        "id": "UI8aTY50JMpe",
        "colab_type": "code",
        "outputId": "ec215084-407f-420f-bfb2-0196813f3c1f",
        "colab": {
          "base_uri": "https://localhost:8080/",
          "height": 188
        }
      },
      "source": [
        "!pip install rogue"
      ],
      "execution_count": 0,
      "outputs": [
        {
          "output_type": "stream",
          "text": [
            "Collecting rogue\n",
            "  Downloading https://files.pythonhosted.org/packages/c9/a9/02b89c5a14497a8d24f73bb2a34532a5067b4951c0aaaefead57129e915a/rogue-0.0.2.tar.gz\n",
            "Building wheels for collected packages: rogue\n",
            "  Building wheel for rogue (setup.py) ... \u001b[?25l\u001b[?25hdone\n",
            "  Created wheel for rogue: filename=rogue-0.0.2-cp36-none-any.whl size=7213 sha256=d746f6a42a6a07354c90ae4b661e2362663fe646cf2a453356fdbf71b6fd82e2\n",
            "  Stored in directory: /root/.cache/pip/wheels/02/39/20/d62d788c77e226459e17e14df0d04aa5e48ef87d1e05cd06e5\n",
            "Successfully built rogue\n",
            "Installing collected packages: rogue\n",
            "Successfully installed rogue-0.0.2\n"
          ],
          "name": "stdout"
        }
      ]
    },
    {
      "cell_type": "code",
      "metadata": {
        "id": "--cFi0bdP4js",
        "colab_type": "code",
        "colab": {}
      },
      "source": [
        "# --- Import essential packages --- \n",
        "\n",
        "\n",
        "import numpy as np\n",
        "import pandas as pd\n",
        "import os\n",
        "import pickle\n",
        "import re\n",
        "from sklearn.datasets import load_files\n",
        "import glob\n",
        "from nltk.corpus import stopwords\n",
        "from nltk.tokenize import word_tokenize\n",
        "from sklearn.feature_extraction.text import CountVectorizer\n",
        "from sklearn.feature_extraction.text import TfidfTransformer\n",
        "from tqdm.auto import tqdm\n",
        "\n",
        "tqdm.pandas()"
      ],
      "execution_count": 0,
      "outputs": []
    },
    {
      "cell_type": "code",
      "metadata": {
        "id": "a1CYgbmFP4nx",
        "colab_type": "code",
        "colab": {}
      },
      "source": [
        "# --- Implementing pretrained word embeddings --- \n",
        "\n",
        "\n",
        "\n",
        "from gensim.test.utils import datapath, get_tmpfile\n",
        "from gensim.models import KeyedVectors\n",
        "from gensim.scripts.glove2word2vec import glove2word2vec\n",
        "\n",
        "\n",
        "glove_file = datapath(os.path.abspath('/content/drive/My Drive/NLP Project/Project Final/glove.6B.50d.txt'))\n",
        "tmp_file = get_tmpfile(os.path.abspath(\"test_word2vec.txt\"))\n",
        "converted_file = glove2word2vec(glove_file, tmp_file) \n",
        "\n",
        "\n",
        "# Source: https://radimrehurek.com/gensim/scripts/glove2word2vec.html"
      ],
      "execution_count": 0,
      "outputs": []
    },
    {
      "cell_type": "code",
      "metadata": {
        "id": "JEyjwJkxP4n8",
        "colab_type": "code",
        "colab": {}
      },
      "source": [
        "# --- Loading the Glove embeddings in word2vec format ---\n",
        "\n",
        "\n",
        "glove_model = KeyedVectors.load_word2vec_format(os.path.abspath(\"test_word2vec.txt\"))"
      ],
      "execution_count": 0,
      "outputs": []
    },
    {
      "cell_type": "code",
      "metadata": {
        "scrolled": true,
        "id": "dGWXe7cUP4oA",
        "colab_type": "code",
        "outputId": "8c078027-3382-4668-c75a-fe4b04031782",
        "colab": {
          "base_uri": "https://localhost:8080/",
          "height": 202
        }
      },
      "source": [
        "glove_model[\"the\"]  # Checking"
      ],
      "execution_count": 0,
      "outputs": [
        {
          "output_type": "execute_result",
          "data": {
            "text/plain": [
              "array([ 4.1800e-01,  2.4968e-01, -4.1242e-01,  1.2170e-01,  3.4527e-01,\n",
              "       -4.4457e-02, -4.9688e-01, -1.7862e-01, -6.6023e-04, -6.5660e-01,\n",
              "        2.7843e-01, -1.4767e-01, -5.5677e-01,  1.4658e-01, -9.5095e-03,\n",
              "        1.1658e-02,  1.0204e-01, -1.2792e-01, -8.4430e-01, -1.2181e-01,\n",
              "       -1.6801e-02, -3.3279e-01, -1.5520e-01, -2.3131e-01, -1.9181e-01,\n",
              "       -1.8823e+00, -7.6746e-01,  9.9051e-02, -4.2125e-01, -1.9526e-01,\n",
              "        4.0071e+00, -1.8594e-01, -5.2287e-01, -3.1681e-01,  5.9213e-04,\n",
              "        7.4449e-03,  1.7778e-01, -1.5897e-01,  1.2041e-02, -5.4223e-02,\n",
              "       -2.9871e-01, -1.5749e-01, -3.4758e-01, -4.5637e-02, -4.4251e-01,\n",
              "        1.8785e-01,  2.7849e-03, -1.8411e-01, -1.1514e-01, -7.8581e-01],\n",
              "      dtype=float32)"
            ]
          },
          "metadata": {
            "tags": []
          },
          "execution_count": 26
        }
      ]
    },
    {
      "cell_type": "code",
      "metadata": {
        "id": "6t6QzSa9UP1j",
        "colab_type": "code",
        "colab": {}
      },
      "source": [
        "# --- Stop word removal function --- \n",
        "\n",
        "\n",
        "from spacy.lang.en.stop_words import STOP_WORDS\n",
        "\n",
        "def stop_word_remove(sentence):\n",
        "    temp = [token for token in sentence.split() if token not in STOP_WORDS]\n",
        "    return ' '.join(word for word in temp)"
      ],
      "execution_count": 0,
      "outputs": []
    },
    {
      "cell_type": "code",
      "metadata": {
        "id": "6vFE3uAfZu14",
        "colab_type": "code",
        "colab": {}
      },
      "source": [
        "# --- Function to read the papers from their paths --- \n",
        "\n",
        "\n",
        "def read_paper(path):\n",
        "  f = open(path, 'r', encoding=\"utf-8\")\n",
        "  text = str(f.read())\n",
        "  f.close()\n",
        "  return text"
      ],
      "execution_count": 0,
      "outputs": []
    },
    {
      "cell_type": "code",
      "metadata": {
        "id": "rFGEdxXfaBmA",
        "colab_type": "code",
        "colab": {}
      },
      "source": [
        "# --- Function to preprocess the papers --- \n",
        "\n",
        "\n",
        "def process_paper(text):\n",
        "\n",
        "  # Removes unwanted characters, accounting for unicode characters\n",
        "  text = re.sub(\"@&#\", \" \", text)\n",
        "  text = re.sub(\"\\n\", \" \", text)\n",
        "  text = (text.encode('ascii', 'ignore')).decode(\"utf-8\")\n",
        "\n",
        "  # Extracting the highlights, body from the paper\n",
        "  highlights = re.findall(r'HIGHLIGHTS(.*?)KEYPHRASES', text,  flags = re.I)[0]\n",
        "  body_main = re.findall(r'.*(?:abstract)(.*?)', text, flags=re.I)[0]\n",
        "\n",
        "  # Making a copy of the body, lowercasing body text, removing punctuations & extra spaces\n",
        "  dummy_body = body_main.lower()\n",
        "  dummy_body = re.sub('[^\\w\\s\\d\\.]','',dummy_body)\n",
        "  dummy_body = ' '.join(dummy_body.split())\n",
        "  dummy_body = dummy_body.split(\".\")\n",
        "\n",
        "  # Removing extra spaces from the body text, which will be preserved to produce summaries\n",
        "  # And splitting into sentences\n",
        "  body = ' '.join(body_main.split())\n",
        "  body = body.split(\".\")\n",
        "\n",
        "  # Removing sentences that are too short or too long, as they wouldn't make apt summary text\n",
        "  for i,x in enumerate(dummy_body):\n",
        "    if (len(x.split())) < 3 or (len(x.split())) > 15: \n",
        "        dummy_body.pop(i)\n",
        "        body.pop(i)\n",
        "\n",
        "  # Making a copy of the highlights, lowercasing body text, removing punctuations & extra spaces\n",
        "  dummy_highlights = highlights.lower()\n",
        "  dummy_highlights = re.sub('[^\\w\\s\\d]','',dummy_highlights)\n",
        "  dummy_highlights = ' '.join(dummy_highlights.split())\n",
        "\n",
        "  # Removing stop words from body & highlights\n",
        "  body_copy = []\n",
        "  for x in dummy_body:\n",
        "    body_copy.append(stop_word_remove(x))\n",
        "  highlight_copy = []\n",
        "  for x in dummy_highlights.split():\n",
        "      highlight_copy.append(stop_word_remove(x))\n",
        "\n",
        "  \n",
        "  # Combing all of the highlights into one string    \n",
        "  highlight_copy = \" \".join(sentence for sentence in highlight_copy)\n",
        "  highlight_copy = \" \".join(highlight_copy.split())\n",
        "\n",
        "  return body_main, body_copy, highlights, highlight_copy"
      ],
      "execution_count": 0,
      "outputs": []
    },
    {
      "cell_type": "code",
      "metadata": {
        "id": "hesoGRNOdCCR",
        "colab_type": "code",
        "colab": {}
      },
      "source": [
        "from scipy.special import expit\n",
        "\n",
        "\n",
        "# Function to calculate sentence Score\n",
        "def document_score(body_copy, highlight_copy):\n",
        "  # Getting word vectors for the body\n",
        "  body_vectors = []\n",
        "  for sent in body_copy:\n",
        "      sent_vec = []\n",
        "      for word in sent.split():\n",
        "          try:\n",
        "              sent_vec.append(glove_model[word])\n",
        "          # If the word vector isn't there in the model\n",
        "          # then use the vector of the word \"Visual\"\n",
        "          except:\n",
        "              sent_vec.append(glove_model[\"visual\"])\n",
        "      body_vectors.append(sent_vec)\n",
        "\n",
        "  # Getting word vectors for the highlights\n",
        "  highlight_vectors = []\n",
        "  for word in highlight_copy.split():\n",
        "      try:\n",
        "          highlight_vectors.append(glove_model[word])\n",
        "      except:\n",
        "          highlight_vectors.append(glove_model[\"visual\"])\n",
        "\n",
        "  # Finding the rouge score for each sentence by counting the # of common words\n",
        "  # & dividing by length of sentence\n",
        "  doc_score = []\n",
        "  for sent in body_vectors:\n",
        "      sent_score = 0\n",
        "      for word in sent:\n",
        "          for w in highlight_vectors:\n",
        "              if (word == w).all():\n",
        "                  sent_score+=1\n",
        "      try: \n",
        "        doc_score.append(expit(sent_score/len(sent)))\n",
        "      except:\n",
        "        doc_score.append(0)\n",
        "  return doc_score"
      ],
      "execution_count": 0,
      "outputs": []
    },
    {
      "cell_type": "code",
      "metadata": {
        "id": "OterM5aVd35B",
        "colab_type": "code",
        "colab": {}
      },
      "source": [
        "# Import libraries\n",
        "\n",
        "from gensim.models import doc2vec\n",
        "from collections import namedtuple\n",
        "\n",
        "\n",
        "# Function to create document vectors\n",
        "def create_document_vector(body_main, doc_score):\n",
        "  # Load data\n",
        "  doc1 = [body_main]\n",
        "\n",
        "  # Transforming data\n",
        "  docs = []\n",
        "  analyzedDocument = namedtuple('AnalyzedDocument', 'words tags')\n",
        "  for i, d in enumerate(doc1):\n",
        "      words = d.lower().split()\n",
        "      tags = [i]\n",
        "      docs.append(analyzedDocument(words, tags))\n",
        "\n",
        "  # Training model\n",
        "  model = doc2vec.Doc2Vec(docs, size = 100, window = 300, min_count = 1, workers = 4)\n",
        "\n",
        "  # Getting vectors\n",
        "  doc_vec = model.docvecs[0]\n",
        "\n",
        "  doc_vectors = []\n",
        "  for i in range(len(doc_score)):\n",
        "    doc_vectors.append(doc_vec)\n",
        "  return doc_vectors"
      ],
      "execution_count": 0,
      "outputs": []
    },
    {
      "cell_type": "code",
      "metadata": {
        "id": "rDKhFMBjeNZJ",
        "colab_type": "code",
        "colab": {}
      },
      "source": [
        "# Function to create sentence vectors\n",
        "def create_sentence_vectors(body_copy):\n",
        "  doc2 = body_copy\n",
        "\n",
        "  # Transforming data \n",
        "  docu = []\n",
        "  analyzed = namedtuple('Analyzed', 'words tags')\n",
        "  for i, f in enumerate(doc2):\n",
        "      wor = f.split()\n",
        "      tags = [i]\n",
        "      docu.append(analyzed(wor, tags))\n",
        "\n",
        "  # Training model\n",
        "  model = doc2vec.Doc2Vec(docu, size = 100, window = 300, min_count = 1, workers = 4)\n",
        "\n",
        "  # Getting vectors\n",
        "  sent_vectors = model.docvecs.vectors_docs\n",
        "  return list(sent_vectors)"
      ],
      "execution_count": 0,
      "outputs": []
    },
    {
      "cell_type": "code",
      "metadata": {
        "id": "tVE8Pu39f8sh",
        "colab_type": "code",
        "colab": {}
      },
      "source": [
        "# Function to create datasets\n",
        "def create_data(path):\n",
        "  text = read_paper(path)\n",
        "  body_main, body_copy, highlights, highlight_copy = process_paper(text)\n",
        "  doc_score = document_score(body_copy, highlight_copy)\n",
        "  doc_vectors = create_document_vector(body_main, doc_score)\n",
        "  sent_vectors = create_sentence_vectors(body_copy)\n",
        "  x = np.concatenate([doc_vectors, sent_vectors], axis=1).tolist()\n",
        "  x = pd.DataFrame(x)\n",
        "  y = pd.DataFrame(doc_score)\n",
        "  return x, y"
      ],
      "execution_count": 0,
      "outputs": []
    },
    {
      "cell_type": "code",
      "metadata": {
        "id": "jq-FWvFcNSH5",
        "colab_type": "code",
        "colab": {}
      },
      "source": [
        "# --- Import Stocastic Gradient Descent Regressor model --- \n",
        "\n",
        "\n",
        "from sklearn.linear_model import SGDRegressor"
      ],
      "execution_count": 0,
      "outputs": []
    },
    {
      "cell_type": "code",
      "metadata": {
        "id": "d9HS-vtJNold",
        "colab_type": "code",
        "colab": {}
      },
      "source": [
        "# --- Create a Gaussian Classifier --- \n",
        "\n",
        "\n",
        "Model = SGDRegressor()"
      ],
      "execution_count": 0,
      "outputs": []
    },
    {
      "cell_type": "code",
      "metadata": {
        "id": "eYe9eKbZg2il",
        "colab_type": "code",
        "colab": {}
      },
      "source": [
        "# --- Suppress all warnings --- \n",
        "\n",
        "\n",
        "import warnings\n",
        "warnings.filterwarnings(\"ignore\")\n",
        "\n",
        "\n",
        "\n",
        "# --- Creating a list of all file paths & partially fitting the model --- \n",
        "\n",
        "paths = glob.glob(\"/content/drive/My Drive/NLP Project/Project Final/Parsed_Papers/*.txt\")\n",
        "for i,path in enumerate(tqdm(paths[0:20])):\n",
        "  x, y = create_data(path)\n",
        "  Model.partial_fit(x,y)"
      ],
      "execution_count": 0,
      "outputs": []
    },
    {
      "cell_type": "markdown",
      "metadata": {
        "id": "4hqcKnUFtKGn",
        "colab_type": "text"
      },
      "source": [
        "<br>\n",
        "\n",
        "Testing"
      ]
    },
    {
      "cell_type": "code",
      "metadata": {
        "id": "GDAhO25wplfT",
        "colab_type": "code",
        "outputId": "fd40c290-eadb-497b-d636-3d9ff84dd948",
        "colab": {
          "base_uri": "https://localhost:8080/",
          "height": 71
        }
      },
      "source": [
        "# --- Dummy data --- \n",
        "\n",
        "\n",
        "t, b = create_data(\"/content/drive/My Drive/NLP Project/Parsed_Papers/S0003687013000549.txt\")"
      ],
      "execution_count": 0,
      "outputs": [
        {
          "output_type": "stream",
          "text": [
            "/usr/local/lib/python3.6/dist-packages/gensim/models/doc2vec.py:570: UserWarning: The parameter `size` is deprecated, will be removed in 4.0.0, use `vector_size` instead.\n",
            "  warnings.warn(\"The parameter `size` is deprecated, will be removed in 4.0.0, use `vector_size` instead.\")\n"
          ],
          "name": "stderr"
        }
      ]
    },
    {
      "cell_type": "code",
      "metadata": {
        "id": "1FEQEiKqpzyB",
        "colab_type": "code",
        "outputId": "539b34af-157e-46de-a1bd-75b56b3abb89",
        "colab": {
          "base_uri": "https://localhost:8080/",
          "height": 34
        }
      },
      "source": [
        "# --- Predicting the top 4 summary sentences --- \n",
        "\n",
        "c = Model.predict(t)\n",
        "lst = pd.Series(c)\n",
        "i = lst.nlargest(4)\n",
        "i = i.index.values.tolist()\n",
        "i # Indices"
      ],
      "execution_count": 0,
      "outputs": [
        {
          "output_type": "execute_result",
          "data": {
            "text/plain": [
              "[10, 157, 105, 130]"
            ]
          },
          "metadata": {
            "tags": []
          },
          "execution_count": 395
        }
      ]
    },
    {
      "cell_type": "code",
      "metadata": {
        "id": "sNExUdvLq3LB",
        "colab_type": "code",
        "outputId": "3d277977-019e-424a-ecd1-6705ccb9b20d",
        "colab": {
          "base_uri": "https://localhost:8080/",
          "height": 105
        }
      },
      "source": [
        "#  --- Predicted summary --- \n",
        "\n",
        "summary = []\n",
        "\n",
        "for x in range(4):\n",
        "    summary.append(body[i[x]])\n",
        "\n",
        "summary"
      ],
      "execution_count": 0,
      "outputs": [
        {
          "output_type": "execute_result",
          "data": {
            "text/plain": [
              "[' Sustained low-intensity muscle activity has been associated with adducted and extended wrist postures during keyboard intensive tasks (Dennerlein and Johnson, 2006)',\n",
              " '5, FDP=1, FDS=0N/cm2) (Brook etal',\n",
              " ' MCP adducted 3',\n",
              " ' The highest total muscle forces of three intrinsic muscles occurred in the adducted wrist posture']"
            ]
          },
          "metadata": {
            "tags": []
          },
          "execution_count": 396
        }
      ]
    },
    {
      "cell_type": "code",
      "metadata": {
        "id": "GTIymE4QrXVX",
        "colab_type": "code",
        "outputId": "11f9bb1e-c9fd-42d3-a45b-7da3d4c8be3b",
        "colab": {
          "base_uri": "https://localhost:8080/",
          "height": 156
        }
      },
      "source": [
        "# --- Highlights - which are gold standard summary of the paper --- \n",
        "\n",
        "\n",
        "text = read_paper(\"/content/drive/My Drive/NLP Project/Parsed_Papers/S0003687013000549.txt\")\n",
        "body_main,_, highlights,_ = process_paper(text)\n",
        "highlights = \" \".join(highlights.split()).split(\".\")\n",
        "highlights"
      ],
      "execution_count": 0,
      "outputs": [
        {
          "output_type": "execute_result",
          "data": {
            "text/plain": [
              "['We quantified the effect of four wrist postures during tapping on resulting finger and wrist muscle stress (including both active and passive component)',\n",
              " ' Neutral wrist posture was the optimal option among four tested wrist postures when all muscles were considered',\n",
              " ' Extensor muscles exhibited higher muscle stresses than flexors',\n",
              " ' Wrist extensors stress remained higher than 4',\n",
              " '5N/cm and wrist flexor stress remained below 0',\n",
              " '5N/cm during tapping',\n",
              " '']"
            ]
          },
          "metadata": {
            "tags": []
          },
          "execution_count": 402
        }
      ]
    },
    {
      "cell_type": "markdown",
      "metadata": {
        "id": "ulp1PjCsvc_g",
        "colab_type": "text"
      },
      "source": [
        "<br>\n",
        "<br>\n",
        "<br>\n",
        "\n",
        "\n",
        "Rough Work"
      ]
    },
    {
      "cell_type": "code",
      "metadata": {
        "id": "6y1KLLcuP4lr",
        "colab_type": "code",
        "colab": {}
      },
      "source": [
        "f = open(\"/content/drive/My Drive/NLP Project/Parsed_Papers/S0003687013000549.txt\", 'r', encoding=\"utf-8\")\n",
        "text = str(f.read())\n",
        "f.close()"
      ],
      "execution_count": 0,
      "outputs": []
    },
    {
      "cell_type": "code",
      "metadata": {
        "id": "rgnXc9NIcyIF",
        "colab_type": "code",
        "outputId": "b9b1c20d-544e-42d8-819d-427972ea2358",
        "colab": {
          "base_uri": "https://localhost:8080/",
          "height": 54
        }
      },
      "source": [
        "text = re.sub(\"@&#\", \" \", text)\n",
        "text = re.sub(\"\\n\", \" \", text)\n",
        "text = (text.encode('ascii', 'ignore')).decode(\"utf-8\")\n",
        "text"
      ],
      "execution_count": 0,
      "outputs": [
        {
          "output_type": "execute_result",
          "data": {
            "text/plain": [
              "\" MAIN-TITLE Wrist posture affects hand and forearm muscle stress during tapping   HIGHLIGHTS                                                                                                                                                             We quantified the effect of four wrist postures during tapping on resulting finger and wrist muscle stress (including both active and passive component).                                                                                                            Neutral wrist posture was the optimal option among four tested wrist postures when all muscles were considered.                                                                                                            Extensor muscles exhibited higher muscle stresses than flexors.                                                                                                            Wrist extensors stress remained higher than 4.5N/cm and wrist flexor stress remained below 0.5N/cm during tapping.                                                                                                    KEYPHRASES   Biomechanical model  Muscle stress  Optimization  Tapping   ABSTRACT                                                      Non-neutral wrist posture is a risk factor of the musculoskeletal disorders among computer users. This study aimed to assess internal loads on hand and forearm musculature while tapping in different wrist postures. Ten healthy subjects tapped on a key switch using their index finger in four wrist postures: straight, ulnar deviated, flexed and extended. Torque at the finger and wrist joints were calculated from measured joint postures and fingertip force. Muscle stresses of the six finger muscles and four wrist muscles that balanced the calculated joint torques were estimated using a musculoskeletal model and optimization algorithm minimizing the squared sum of muscle stress. Non-neutral wrist postures resulted in greater muscle stresses than the neutral (straight) wrist posture, and the stress in the extensor muscles were greater than the flexors in all conditions. Wrist extensors stress remained higher than 4.5N/cm and wrist flexor stress remained below 0.5N/cm during tapping. The sustained high motor unit recruitment of extensors suggests a greater risk than other muscles especially in flexed wrist posture. This study demonstrated from the perspective of internal tissue loading the importance of maintaining neutral wrist posture during keying activities.                                INTRODUCTION   Intensive keyboard use has been associated with an increased risk of developing musculoskeletal symptoms and disorders of the hand, wrist, and arm (Gerr etal., 2002, 2006; Jensen, 2003). Symptoms include pain, tingling, numbness, stiffness and disorders such as carpal tunnel syndrome and tendinitis. The affected tissues include muscle, tendon and tendinous insertions. A review of the physiological evidence suggests that a plausible basis for the pathogenesis of muscle disorders of the upper extremity in low-intensity tasks is sustained motor unit recruitment and homeostatic disturbances coincided with sustained low-intensity muscle activity (Visser and van Dieen, 2006).  Sustained low-intensity muscle activity has been associated with adducted and extended wrist postures during keyboard intensive tasks (Dennerlein and Johnson, 2006). These non-neutral wrist postures have been associated with arm/hand symptoms among computer users (Wahlstrom, 2005). Ergonomic guidelines recommend avoiding non-neutral postures during computer work (Hedge and Powers, 1995; Occupational Safety and Health Administration, 1997; Marklin and Simoneau, 2004). Despite abundant epidemiologic evidence of association between awkward wrist postures and musculoskeletal symptoms/disorders, little is known about how internal tissue loading is affected by joint posture during computer use.  Biomechanically these non-neutral postures can increase internal loading on the muscles and joints. Rempel etal. (2008) reported that changes in wrist posture altered carpal tunnel pressure, which may contribute to the development or aggravation of carpal tunnel syndrome (Rempel etal., 1999, 2008). Specifically, wrist deviations in extension or radial deviation while typing are associated with an increase in pressure. In addition, posture also affects muscle force and activation patterns (Dennerlein etal., 1998b; Visser etal., 2000; Kuo etal., 2006).  Computational biomechanical models have been used to estimate muscle/tendon force based on external measures (Chao etal., 1976; Herzog and Leonard, 1991; Dennerlein etal., 1998a; Sancho-Bru etal., 2001) because direct invivo measurement of internal loading is invasive and technically difficult. Previous models often investigated finger and wrist joints separately. It is important to include both the finer and the wrist joints to study keying activities because several muscle-tendon units articulate both finger and wrist joints. In addition, passive muscle forces contribute to the dynamic motion of the fingers, and therefore cannot be neglected in biomechanical models. However, only a limited number of existing models incorporated muscle passive properties (Sancho-Bru etal., 2001; Keir and Wells, 2002). These models use passive finger muscle properties obtained from cadaveric work (Lee and Rim, 1990; Ranney etal., 1987) which were found to overestimate the passive joint torques measured in experiment (Qin etal., 2010). New data for the passive finger muscle force assessment parameters have been proposed, which can improve the estimation of muscle force using biomechanical models of the hand (Qin etal., 2010).  The objective of this study is to quantify the effect of wrist posture on resultant hand and forearm muscle stress (including both active and passive component) during tapping on a computer keyboard, using a computational biomechanical model. It is our hypothesis that non-neutral wrist postures increase muscle stress mainly due to increase of passive muscle resistance.   METHODS   A repeated-measures laboratory experiment was designed to measure the finger and wrist joint angles and fingertip force during index finger tapping in four wrist postures. This study chose single finger tapping motion because tapping is a basic cyclic motion similar to more complex typing activities. From experimental measurements, inverse dynamics calculated external net joint torques, and a biomechanical model estimated the internal joint torque created by muscle-tendon units.  Ten healthy participants (five females and five males, mean age 28.16.0 years) volunteered in the experimental study. Written informed consent was obtained, and all protocols and forms were approved by the Harvard School of Public Health Institutional Review Board. Index finger segment length, width, and thickness (measured at the midpoint of each segment) were measured prior to data collection (Table1                         ). All subjects were right-handed.  Subjects were seated at an instrumented workstation where a split keyboard was adjusted so that the surface of the keys was approximately at each subject's seated elbow height. A six-degree-of-freedom force transducer (F/T Sensor Gamma, ATI Industrial Automation, Apex, USA) was secured underneath the keyboard to measure force and torque applied to the right hand side of the split keyboard. No forearm or palm support was provided.  The adjusted keyboard angle and horizontal location provided four different wrist postures (Fig.1                         ): neutral (NTL): subjects' right acromion was aligned with the F6 key and the keyboard was placed on a horizontal surface, adducted (ADD): subjects' midline of the trunk was aligned with the F6 key and the keyboard was placed on a horizontal surface, extended (EXT): keyboard was tilted positively towards the subject at 18, and flexed (FLX): keyboard was tilted negatively away from the subject at 18. These postures were selected as they represent a typical range of wrist postures associated with keyboard use and related guidelines (Asundi etal., 2011).  Subjects completed four 10-s trials in each wrist posture, during which subjects tapped with their right index finger on the keyboard's F6 key selected to optimize data recording of the finger motion. Subjects were asked to tap in sync with a metronome at 3Hz while maintaining the elbow and shoulder in a fixed posture. Subjects were instructed to keep the upper arm at the side of the trunk and the elbow angle at 90.  An infrared three-dimensional motion analysis system (Optotrak Certus, Northern Digital, Waterloo, Canada) tracked trajectories of the trunk, upper arm, forearm, hand, and index finger segments. Rigid body structures consisting of three active markers were attached on the trunk, upper arm, forearm, and hand. Two individual active markers were placed dorsally on each segment of the index finger along the long axis (Fig.1). Anatomical landmarks locations relative to the cluster markers were digitized using a probe. The digitized landmarks included Incisura Jugularis, left and right acromion process, lateral and medial epicondyle, ulnar and radial styloid, metacarpophalangeal joint (MCP) of the index (side), middle (top) and little finger (side). Anatomical coordinate systems were constructed based on methods described previously (Asundi etal., 2010). The center of the force transducer and the position of the F6 key switch were also digitized, and center of pressure was calculated. The moments generated by the fingertip force on the force transducer were calculated and included in inverse dynamics described in the next section. The wrist and finger joint angles at each sample point were computed from forearm and hand segment trajectories. The reference posture was defined to be the posture when the finger, the 3rd metacarpal bone and the radius were aligned in both the coronal and sagittal planes (Dennerlein and Johnson, 2006; Qin etal., 2010). The motion and force data were collected at 100Hz, low-pass filtered at 10Hz with a fourth order Butterworth filter.  The hand and wrist was modeled as a four-segment-linkage system with the distal interphalangeal joints (DIP and PIP) as one degree-of-freedom hinge joints, and the second metacarpophalangeal joint (MCP) and wrist as two degree-of-freedom joints (flexion/extension, adduction/abduction). Based on anthropometric data, external force/moment at the fingertip measured by the force transducer, and trajectories of the markers, a multi-segment inverse dynamic model (Kingma etal., 1996; Kuo etal., 2006) calculated external joint torques. Index finger segments were assumed to be uniform elliptic cylinder with center of mass at the midpoint of each segment; hand inertia properties were estimated using nonlinear regression method from anthropometric data (Zatsiorsky, 2002). For each joint, only the muscles/tendons that articulate the joint were included (Table2                            ).  Mechanical equilibrium requires that the sum of the moments created by individual muscle forces must be equal to the resultant joint moments from inverse dynamics.                                                                 (1)                                                                                                                                                          M                                           j                                                                                                                                                                                                                                                            i                                              =                                              1                                                                                      m                                                                                                                                                                         R                                                                                               i                                                 j                                                                                                                                                                                                                             F                                              i                                                                                                                           =                                        0                                                                                                                                  where M                                                           j                             is the measured joint moment from inverse dynamics at joint j (j=1,2,3,4 representing DIP, PIP, MCP and wrist respectively), R                                                           ij                             is the moment arm of muscle-tendon unit i (i=1,,10) with respect to joint j, F                                                           i                             is the force of muscle-tendon unit i. The ten muscle-tendon units included in the model were lumped extensor digitorum and extensor indicis muscle (LE), flexor digitorum superficialis (FDS), flexor digitorum profundus (FDP), radial interossei (RI), ulnar interossei (UI), lumbricales (LUM), extensor carpi radialis (ECR), extensor carpi ulnaris (ECU), flexor carpi radialis (FCR), and flexor carpi ulnaris (FCU). Four tendons in the index finger extensor mechanism included in the model were terminal extensor (TE), extensor slip (ES), radial band (RB), and ulnar band (UB).  Muscle/tendon moment arms and length excursion were computed using joint angle and existing data reported in the literature (Qin etal., 2010). Multiple sources of data and method were used including normative model and tendon moment arms for the index finger (Chao, 1989), finger flexor model (Armstrong and Chaffin, 1978), and the wrist model (Brand and Hollister, 1999; Lemay and Crago, 1996). Hand muscle moment arms were scaled based on measured finger anthropometry. Wrist muscle moment arm values were adopted directly from the literature due to lack of scaling factor. Examples of moment arm values at the neutral posture are presented in Table2. Muscle length excursion (                                                                                                   l                                                           ) was calculated at each instant in time as the muscle length change from the reference posture. For muscles that articulate multiple joints, the excursion at each joint were summed to calculate total muscle length excursion.  The instantaneous total force exerted by a muscle-tendon unit (F) can be calculated by a lumped Hill-type model (Zajac, 1989):                                                                 (2)                                                                                                               F                                        =                                                                                   F                                                                                         max                                                                                                                                                                      [                                                                                                                                          f                                                 a                                                                                                                                             (                                                 l                                                 )                                                                                            f                                                                                               (                                                 v                                                 )                                                                                            a                                              +                                                                                               f                                                 p                                                                                                                                             (                                                 l                                                 )                                                                                                                                    ]                                                                                                                                                                          where                                                                                                       f                                     a                                                                                                         (                                     l                                     )                                                                                              and                                                                                                       f                                     p                                                                                                         (                                     l                                     )                                                                                              are respectively the normalized active and passive muscle forcelength relationships,                                                                  f                                                                       (                                     v                                     )                                                                                              is the normalized muscle forcevelocity relationship, a is muscle activation level, and F                            max is the maximum isometric muscle force which can be calculated as following (An and Cooney, 1991)                                                                 (3)                                                                                                                                                          F                                                                                         max                                                                                                                           =                                        P                                        C                                        S                                        A                                                                                                                                                                                                                    max                                                                                                                                                                                                                     where                                                                                                       p                                                                             max                                                                                                                                  =45N/cm (Holzbaur etal., 2005) is the maximum stress the muscle can bear, which has been considered the same for each muscle (An and Cooney, 1991).  The instantaneous total force of muscle-tendon unit i (F                                                           i                            ) can then be written as the sum of active (F                                                           i_active) and passive (F                                                           i_passive) components.                                                                 (4)                                                                                                                                                          F                                           i                                                                                =                                                                                   F                                                                                         i                                              _                                              a                                              c                                              t                                              i                                              v                                              e                                                                                                                           +                                                                                   F                                                                                         i                                              _                                              p                                              a                                              s                                              s                                              i                                              v                                              e                                                                                                                           =                                                                                   a                                           i                                                                                                                        P                                        C                                        S                                        A                                                                                                                                                                                                                    max                                                                                                                                                                                                              f                                                                                         i                                              _                                              a                                                                                                                                                                      (                                           l                                           )                                                                                                                                                                   f                                           i                                                                                                                           (                                           v                                           )                                                                                +                                                                                   F                                                                                         i                                              _                                              p                                              a                                              s                                              s                                              i                                              v                                              e                                                                                                                                                                                                                                                Active forces depend on muscle activation level (a                                                           i                            ), muscle physiological cross-sectional area (PCSA                                                           i                            ) (Chao, 1989), muscle maximum capacity (                            max), muscle length factor (f                                                           i_a                            (l)), and muscle contraction velocity factor (f                                                           i                            (v)). f                                                           i_a                            (l) and f                                                           i                            (v) were determined by normalizing to the generic force-length and forcevelocity curves based on muscle length excursion, muscle pennation angle (Lieber etal., 1990; Jacobson etal., 1992; Lieber and Friden, 2002), maximum force generating capacity (Holzbaur etal., 2005), optimal fiber length (Chao, 1989), and maximum muscle contraction velocity (Asakawa etal., 2003).  Based on Hill-type model in Eq. (2), passive force is related to maximum active force and muscle length. In practice, passive muscle force is often modeled by an exponential relationship with muscle length change,                                                                 (5)                                                                                                                                                          F                                                                                         p                                              a                                              s                                              s                                              i                                              v                                              e                                                                                                                           =                                                                                                                              1                                                                                                                                                                   e                                                                                                                                                                                           2                                                                                                                                                                                        l                                                                                                                                                                                                                     where                             1 and                             2 represent muscle-dependent constants, and                                                                                                    l                                                            represents total muscle excursion (length change) from the reference position. Passive force model parameters                             1 and                             2 are associated with muscle architectural parameters including PCSA, pennation angles, maximal active force and muscle bundle length (Woittiez etal., 1984).                             1 and                             2 of FDP, FDS, LE, RI, UI and LUM used the recently updated values (Qin etal., 2010), and for ECR, ECU, FCR and FCU we used previously reported values (Keir etal., 1996).  The equilibrium of joint moments (Eq. (1)) yield four constraint balances involving ten unknown muscle-tendon tensions, which leads to an indeterminate problem. Given the external net joint torque, an optimization routine sought muscle forces that could balance external joint torque. The objective function of the optimization routine minimized squared sum of muscle stresses. This cost function has been used previously to determine muscle force sharing in the upper extremity (e.g. An etal., 1984; Crowninshield and Brand, 1981; Dennerlein etal., 1998a; Hughes and An, 1997; Li and Zhang, 2010; Pedotti etal., 1978; Sancho-Bru etal., 2001; Vigouroux etal., 2006; Yamaguchi etal., 1995).  Find F                                                           i                             that minimize:                                                                 (6)                                                                                                               J                                        =                                                                                                                              i                                                                                                                                                                                                                                                                              (                                                                                                                                                                                                                                                                                                  F                                                                i                                                                                                                                                                                 /                                                                                                                       P                                                             C                                                             S                                                             A                                                                                                                                                                                                                         )                                                                                                                                             2                                                                                                                                                                                                                                                subject to: Eq. (1)                                                                                             (7)                                                                                                                                                          F                                                                                         i                                              _                                              p                                              a                                              s                                              s                                              i                                              v                                              e                                                                                                                                                                                                              F                                           i                                                                                                                        P                                        C                                        S                                                                                   A                                           i                                                                                                                                                                                                                                                            max                                                                                                                           +                                                                                   F                                                                                         i                                              _                                              p                                              a                                              s                                              s                                              i                                              v                                              e                                                                                                                                                                                                                                                                                                                  (8)                                                                                                               0                                                                                                                           a                                           i                                                                                                                        1                                                                                                                                                                                                                               (9)                                                                                                                                                                                                        T                                              E                                              =                                              0.985                                                                                               (                                                                                                     R                                                    B                                                    +                                                    U                                                    B                                                                                                  )                                                                                                                                                                                                                                                                  R                                              B                                              =                                              0.67                                              L                                              U                                              M                                              +                                              0.15                                              L                                              E                                                                                                                                                                                                                    U                                              B                                              =                                              0.33                                              U                                              I                                              +                                              0.15                                              L                                              E                                                                                                                                                                                                                    E                                              S                                              =                                              0.33                                              L                                              U                                              M                                              +                                              0.7                                              L                                              E                                              +                                              0.67                                              U                                              I                                                                                                                                                                                                                                                The model was implemented using MATLAB and its optimization toolbox (fmincon function, MathWorks, Natick, MA). Muscle stress was chosen as the dependent variable because it normalizes the forces to the size of the muscle. Muscle PCSA was not measured in this study, however, using the values form the literature provides relative normalization across the bigger and smaller muscles of the forearm/hand. Other constraints include lower and upper boundaries of the muscle-tendon unit force and muscle activation level. The passive muscle force was the lower bound, and the sum of the passive force and maximum isometric muscle force was the upper bound of the optimization algorithm (Eq. (7)).  Empirical relations of the force distribution of the extensor mechanism (Chao, 1989; Brook etal., 1995) were added in the model as additional constraints (Eq. (9)) because they represent approximate extensor hood mechanism geometry and available anatomical knowledge. However, these relations have limitations because they are empirical and deductive  the coefficients in Eq. (9) may not be the precise values that represent force distribution among everybody. Therefore, the four tendon forces estimated from Eq. (9) were allowed to vary within a 10% margin in the optimization procedure.  Data from the last 16 taps of each trial were collapsed into one average tap for each condition and for each subject. This was completed by aligning kinematic and kinetic data for each tap at the time of maximum vertical tapping force and averaging cross all taps over the average length of one tap. To compare four experimental conditions and test the study hypothesis, mean torques and muscle forces across ten subjects for each wrist condition were computed for the average tap. Repeated measures ANOVA was used to compare mean muscle stresses across four wrist conditions. Significant findings on the ANOVA (0.05) were followed-up with the Tukey Post-Hoc test for pairwise comparisons.   RESULTS   The wrist was on average extended 21.8 (8.9) degrees in the extended (EXT) condition, adducted 20.8 (3.8) degrees in the adducted (ADD) condition, and flexed 18.5 (10.9) degrees in the FLX condition (Table3                      ), all significantly different from the wrist posture in the neutral (NTL) condition (Tukey test p<0.0001). MCP joint flexion angle in ADD condition was less than other conditions. MCP adducted 3.4 (7.0) degrees in FLX condition while abducted in other conditions. Mean wrist extension torque was larger during tapping in NTL and FLX configurations compared to ADD and EXT (Table3). Mean wrist adduction torque did not differ among conditions. The maximum vertical fingertip force during tapping in flexed wrist posture (1.580.37N) was higher than other conditions, although no statistical difference was found among conditions.  Estimated muscle stresses varied temporally during a typical tap (Fig.2                      ). Finger flexor (FDS and FDP) stresses increased shortly after the contact with the key switch, peaked around the point of maximum fingertip force, and gradually decreased afterwards. Finger extensor (LE) stress decreased before the finger-key contact, remained low during contact and increased after the contact. The stress of intrinsic muscle UI had a similar temporal pattern as the flexors but greater in magnitude while RI and LUM stress were low throughout the tap. Muscle stresses of wrist extensors ECR and ECU peaked at the time of keystroke and remained higher than 4.5N/cm during the tap. Wrist flexors FCR and FCU stresses were lower than 0.5N/cm throughout the whole duration of a tap. These patterns were similar among different conditions and across subjects.  Forearm extensor stress averaged across the taps varied among the four wrist postures (Table4                      ) for both the passive (p<0.0001 for LE, ECR, and ECU) and the active component (p=0.01, 0.08, and <0.0001 for LE, ECR, and ECU, respectively). The total muscle stress (sum of passive and active muscle force) varied for ECU (p<0.0001) and LE (p=0.003) and ECR (p=0.06) among four experimental conditions. The passive stress of the wrist extensors (ECR and ECU) were less than 0.4N/cm, while the active components were greater than 1.5N/cm. The highest total muscle forces of three extensors occurred in the flexed wrist posture.  The total muscle stresses of the flexors (FDS, FDP, FCR, and FCU) were smaller than the extensors stresses (Table4). The passive components but not the active components of flexor stress were affected by the wrist posture during tapping (p<0.0001). The extended wrist posture was associated with the highest passive flexor stresses, while the flexed wrist posture was associated with the lowest passive flexor stresses. For the hand intrinsic muscles, the total muscle stress for UI showed total stress of more than 3.0N/cm while RI and LUM stresses were less than 0.8N/cm. The highest total muscle forces of three intrinsic muscles occurred in the adducted wrist posture.   DISCUSSION   This study aimed to estimate hand and wrist muscle stresses during tapping in four wrist postures, testing the hypothesis that tapping in non-neutral wrist postures would increase the muscle stress compared to tapping in a neutral wrist posture. Active and passive muscle stress components estimated from a musculoskeletal model indicated that extensor muscles exhibited higher muscle stresses than other muscles, and the hypothesis that non-neutral wrist postures increase muscle stress was confirmed. Specifically, flexed wrist posture increases muscle stress among extensors, extended wrist postures increases muscle stress among flexors (mainly due to passive muscle force), and adducted wrist posture increases intrinsic muscle stress. Extensors borne constant high muscle stress during tapping without support, which was needed to balance the flexion torques created by the weight on the hand. This might be a reason why tendonitis is more prevalent for extensors than flexors among computer users (Gerr etal., 2002). Extensors, including ECR, ECU, and LE, experienced greater muscle stress than other muscles across four wrist postures. Extensor stress in flexed wrist posture is greater than other wrist postures. As the wrist changes from neutral to flexed posture, extensor moment arms decrease requiring higher muscle forces to balance the external torques and therefore resulted in increased stress on the extensors. In addition, more flexed wrist posture increases the length of the muscle therefore increases the passive component of the force, adding additional stress on the extensors.  Model results showed that both passive and active muscle forces were affected by the wrist postures among extensors and intrinsic muscles. Only passive muscle forces were affected by wrist posture among flexors, and in fact FCR and FCU were not activated during the task. Using a static model, Keir and Wells (2002) reported that as the wrist extension increased from 0 to 30 the joint moment contribution from the extrinsic finger flexor muscle passive forces increased significantly, whereas the active muscle forces were not affected by the wrist posture. This is consistent with the findings of this study. However, the contribution from passive muscle force to joint moment reported by Keir and Wells (2002) was much higher than our findings. This may be due to overestimation of passive joint torques using passive muscle properties measured invitro (Lee and Rim, 1990) and evaluation of only the static postures. Recent data of passive finger muscle parameter values used (Qin etal., 2010) in the current model improve estimation of the passive torques of finger joint, therefore can provide better estimation of active and total muscle force of the hand.  The temporal patterns of muscle stress/force (Fig.2) coincided with key tapping motion. Similar to the patterns observed previously using intramuscular fine-wire electromyography during keyboard typing (Dennerlein etal., 1998b), a burst of LE activity lifted the finger before the keystroke; just after contacting with the key, a burst of flexor activity moved the fingertip further downward counteracting the resistance from the key switch; at the end of the fingertip-key contact, another burst of LE activity lifted the finger preparing for the next tap. Out results showed that wrist extensor also facilitated the tapping motion. ECR and ECU forces decrease before each tap to facilitate the downward fingertip motion and then increase rapidly to help lift the fingertip up again. Kuo etal. (2006) measured both the intrinsic and extrinsic finger muscle during tapping. The activity patterns of the intrinsic muscles mostly coincided with the extrinsic flexor muscles. Our results showed that UI stress had similar peaking patterns with extrinsic flexors however the magnitude were higher than the flexors. The high levels of UI stress may serve to help extrinsic flexor overcome the activation force of the key switch, control the fast extension of IP joints during downswing, maintain position of the index finger in the plane of adduction/abduction, and stabilize the MCP joint by increasing its stiffness (Darling and Cole, 1990; Kuo etal., 2006).  The model predicted finger muscle stresses were within the range of values reported in other studies. During tapping in NTL condition, current model predicted peak LE, FDP, and FDS stress to be 5.8, 1.1, and 0.7N/cm2, respectively. They were comparable to the invivo measurement during flexion-extension task (FDP=0.31 and FDS=0.42.3N/cm2) (Kursa etal., 2006) and during isometric flexion task (FDS=1.4N/cm2) (Dennerlein etal., 1998a). Previous models have estimated muscle forces for finger pinching task (LE=12.5, FDP=1, FDS=0N/cm2) (Brook etal., 1995) and for free finger flexion-extension task (LE=3.1, FDP=0.4, FDS=0N/cm2) (Sancho-Bru etal., 2001). The extensor muscle stresses estimated by our model during tapping were between the pinching task and free flexion-extension task, and all three tasks showed small flexor muscle stress. The difference in extensor stress was likely due to the levels of external contacting forces in these tasks. The fingertip force is likely to be the highest during pinch task, followed by tapping, and there was no external force during free finger flexion-extension movement. The wrist muscles were not included in previous models. Future biomechanical models including the wrist are needed to crosscheck the estimated stresses of the wrist muscles.  Other studies measured muscle loading using electromyography (EMG). For comparison purpose, muscle stresses presented in the current study were converted to muscle activation as a percentage of maximum voluntary contraction (%MVC), assuming that the maximum muscle stress value of all muscles is 45N/cm (Holzbaur etal., 2005), and there is an approximately linear correlation between muscle stress and muscle activation level for EMG less than 15% MVC typically seen during computer tasks (Bruno Garza etal., 2012; Lee etal., 2009; Simoneau etal., 2003). Take the neutral (NTL) wrist posture as an example, the muscle activation can be estimated to be approximately 10.0%, 12.3%, 7.3%, and 7.0% MVC for the LE, ECR, ECU, and UI muscles, respectively. Muscle activation levels for other muscles were smaller than 1% MVC. Lee etal. (2009) measured two intrinsic and three extrinsic hand muscles using intramuscular electromyography (EMG) during index finger tapping. Muscle amplitude for extensor digitorum communis (one of the LE muscles) and UI were about 4% and 8% MVC, respectively. Muscle activation of FDS and FDP was about 8% MVC, higher than our results. However, participants rested the hand and the wrist on a fixed platform in their experiment while no support was used in our study. With a rest, participants need to rely solely on the flexors for downward motion and activation of the key switch without the help from the wrist, therefore more flexor activities and less extensor activities were required compared to the current study. Forearm muscle EMG during typing on standard keyboard in difference wrist postures were reported to be about 12%, 8%, 5%, and 2% MVC of ECU, ECR, FCU, and FCR muscles, respectively (Bruno Garza etal., 2012; Simoneau etal., 2003). In those studies, participants typed text letters on a full-size keyboard with both hands without wrist support or performed normal keyboard and mouse activities at work. The differences in study protocols should be considered in comparing the results between studies.  The findings need to be considered within the context of the study's limitations. Results may not be representative of other common typing conditions. For instance, using palm and/or wrist supports could reduce muscle's burden from gravity and thus reduce extensor muscle stress, and tapping speed was paced by a metronome to control potential confounding effect by speed. Additionally, only four basic wrist postures were tested for the model. More complicated wrist postures need to be tested to expand the database of muscle loading in keying tasks. For example, a wrist both extended and adducted may lead to more stretched FCR muscle than the postures tested in this study. As a result, FCR may experience higher passive stresses, which may alter the dynamics of force distribution among other muscles. An inherent aspect of many biomechanical models is that muscle anatomical and physiological parameters affect the model estimated muscle force and stress. Available parameter values in the literature were often measured and averaged from cadaver samples which may introduce errors to model estimated muscle force/stress. For instance, during zero wrist flexion and abduction, ECR moment arm at wrist was about 8mm according to Pigeon etal. (1996) and about 10mm in other studies (Lemay and Crago, 1996; Gonzalez etal., 1997). This discrepancy would have led to a larger predicted ECR stress if moment arm data by Pigeon etal. was used. However, all these studies reported that ECR and ECU moment arms decrease monotonically as the wrist changed from neutral to more flexed postures. Given that the goal of this study was to compare muscle stress between different wrist postures in a repeated design experiment, the observed differences between conditions are not likely to be affected although the magnitude of estimated muscle stress could change with different parameter values.  The static optimization algorithm used in this study assumes the central controller determines the desired joint moments and then distributes activity among the muscles such that necessary moments are generated. The cost function in Eq. (6) is frequency employed because of its physiological background related to muscle fatigue (Erdemir etal., 2007; Tsirakos etal., 1997). However, such assumption only represents one potential strategy of the motor control and this method does not take into consideration of antagonist co-contraction. Another limitation is that the results estimated by the biomechanical model were compared to previously reported muscles stress or EMG measurements rather than direct validation. However, the present study is not intended to estimate muscle force precisely but to test the effect of different wrist postures on muscle loading. Future research could use EMG-based models to estimate muscle force to cross validate model results.  The model presented in this study has three strengths over existing ones. First, it uses the improved data of passive finger muscle forces which can provide better invivo joint torque assessment than using previous invitro data. Therefore, the model estimation of active component of muscle stress was also improved. Second, this model incorporates the dynamic properties of the muscle. Thirdly, both wrist muscles and finger muscles were included in the model. Neutral wrist posture has been promoted in many ergonomic guidelines of computer keyboard use based on epidemiologic evidence. Deviated postures directly affect internal loading which may lead to musculoskeletal disorders. This study demonstrated that the internal tissue loading on the hand and forearm musculature was indeed higher when wrist was in non-neutral postures during tapping. Wrist posture affects muscle groups (extensor, flexor and intrinsic hand muscles) differently, however the neutral wrist posture was the optimal option among the four postures tested when all muscles were considered.   ACKNOWLEDGEMENTS   The authors thank Dr. Krishna Asundi, Dr. Justin Young and Dr. Devin Jindrich for their assistance in preparing this manuscript. This work was funded in part by NIOSH                    R01OH008373, and the NIOSH ERC at Harvard University grant (T42OH008416-05).   REFERENCES   \""
            ]
          },
          "metadata": {
            "tags": []
          },
          "execution_count": 275
        }
      ]
    },
    {
      "cell_type": "code",
      "metadata": {
        "id": "KDosqrG8P4mK",
        "colab_type": "code",
        "outputId": "9b8c64bc-3619-4132-f08b-2ca1ad225946",
        "colab": {
          "base_uri": "https://localhost:8080/",
          "height": 34
        }
      },
      "source": [
        "main_title = re.findall(r'MAIN-TITLE(.*?)HIGHLIGHTS', text, flags = re.I)\n",
        "main_title"
      ],
      "execution_count": 0,
      "outputs": [
        {
          "output_type": "execute_result",
          "data": {
            "text/plain": [
              "[' Wrist posture affects hand and forearm muscle stress during tapping   ']"
            ]
          },
          "metadata": {
            "tags": []
          },
          "execution_count": 276
        }
      ]
    },
    {
      "cell_type": "code",
      "metadata": {
        "id": "_JGsqD7TP4mR",
        "colab_type": "code",
        "outputId": "230d00fd-c080-4c94-df45-bd114cf573c8",
        "colab": {
          "base_uri": "https://localhost:8080/",
          "height": 54
        }
      },
      "source": [
        "highlights = re.findall(r'HIGHLIGHTS(.*?)KEYPHRASES', text,  flags = re.I)[0]\n",
        "highlights"
      ],
      "execution_count": 0,
      "outputs": [
        {
          "output_type": "execute_result",
          "data": {
            "text/plain": [
              "'                                                                                                                                                             We quantified the effect of four wrist postures during tapping on resulting finger and wrist muscle stress (including both active and passive component).                                                                                                            Neutral wrist posture was the optimal option among four tested wrist postures when all muscles were considered.                                                                                                            Extensor muscles exhibited higher muscle stresses than flexors.                                                                                                            Wrist extensors stress remained higher than 4.5N/cm and wrist flexor stress remained below 0.5N/cm during tapping.                                                                                                    '"
            ]
          },
          "metadata": {
            "tags": []
          },
          "execution_count": 277
        }
      ]
    },
    {
      "cell_type": "code",
      "metadata": {
        "id": "zWhThlrNP4mc",
        "colab_type": "code",
        "outputId": "3ae2a10a-07ae-48f3-db97-9b5109ade4a5",
        "colab": {
          "base_uri": "https://localhost:8080/",
          "height": 34
        }
      },
      "source": [
        "keyphrases = re.findall(r'.*keyphrases(.*?)(?:introduction|abstract).*', text, flags = re.I)\n",
        "keyphrases"
      ],
      "execution_count": 0,
      "outputs": [
        {
          "output_type": "execute_result",
          "data": {
            "text/plain": [
              "['   Biomechanical model  Muscle stress  Optimization  Tapping   ']"
            ]
          },
          "metadata": {
            "tags": []
          },
          "execution_count": 278
        }
      ]
    },
    {
      "cell_type": "code",
      "metadata": {
        "id": "ZISq17HGP4mh",
        "colab_type": "code",
        "outputId": "a4754500-f88b-43bb-c845-c23c928e5e1f",
        "colab": {
          "base_uri": "https://localhost:8080/",
          "height": 54
        }
      },
      "source": [
        "body_main = re.findall(r'.*(?:abstract)(.*?)references', text, flags=re.I)[0]\n",
        "body_main"
      ],
      "execution_count": 0,
      "outputs": [
        {
          "output_type": "execute_result",
          "data": {
            "text/plain": [
              "\"                                                      Non-neutral wrist posture is a risk factor of the musculoskeletal disorders among computer users. This study aimed to assess internal loads on hand and forearm musculature while tapping in different wrist postures. Ten healthy subjects tapped on a key switch using their index finger in four wrist postures: straight, ulnar deviated, flexed and extended. Torque at the finger and wrist joints were calculated from measured joint postures and fingertip force. Muscle stresses of the six finger muscles and four wrist muscles that balanced the calculated joint torques were estimated using a musculoskeletal model and optimization algorithm minimizing the squared sum of muscle stress. Non-neutral wrist postures resulted in greater muscle stresses than the neutral (straight) wrist posture, and the stress in the extensor muscles were greater than the flexors in all conditions. Wrist extensors stress remained higher than 4.5N/cm and wrist flexor stress remained below 0.5N/cm during tapping. The sustained high motor unit recruitment of extensors suggests a greater risk than other muscles especially in flexed wrist posture. This study demonstrated from the perspective of internal tissue loading the importance of maintaining neutral wrist posture during keying activities.                                INTRODUCTION   Intensive keyboard use has been associated with an increased risk of developing musculoskeletal symptoms and disorders of the hand, wrist, and arm (Gerr etal., 2002, 2006; Jensen, 2003). Symptoms include pain, tingling, numbness, stiffness and disorders such as carpal tunnel syndrome and tendinitis. The affected tissues include muscle, tendon and tendinous insertions. A review of the physiological evidence suggests that a plausible basis for the pathogenesis of muscle disorders of the upper extremity in low-intensity tasks is sustained motor unit recruitment and homeostatic disturbances coincided with sustained low-intensity muscle activity (Visser and van Dieen, 2006).  Sustained low-intensity muscle activity has been associated with adducted and extended wrist postures during keyboard intensive tasks (Dennerlein and Johnson, 2006). These non-neutral wrist postures have been associated with arm/hand symptoms among computer users (Wahlstrom, 2005). Ergonomic guidelines recommend avoiding non-neutral postures during computer work (Hedge and Powers, 1995; Occupational Safety and Health Administration, 1997; Marklin and Simoneau, 2004). Despite abundant epidemiologic evidence of association between awkward wrist postures and musculoskeletal symptoms/disorders, little is known about how internal tissue loading is affected by joint posture during computer use.  Biomechanically these non-neutral postures can increase internal loading on the muscles and joints. Rempel etal. (2008) reported that changes in wrist posture altered carpal tunnel pressure, which may contribute to the development or aggravation of carpal tunnel syndrome (Rempel etal., 1999, 2008). Specifically, wrist deviations in extension or radial deviation while typing are associated with an increase in pressure. In addition, posture also affects muscle force and activation patterns (Dennerlein etal., 1998b; Visser etal., 2000; Kuo etal., 2006).  Computational biomechanical models have been used to estimate muscle/tendon force based on external measures (Chao etal., 1976; Herzog and Leonard, 1991; Dennerlein etal., 1998a; Sancho-Bru etal., 2001) because direct invivo measurement of internal loading is invasive and technically difficult. Previous models often investigated finger and wrist joints separately. It is important to include both the finer and the wrist joints to study keying activities because several muscle-tendon units articulate both finger and wrist joints. In addition, passive muscle forces contribute to the dynamic motion of the fingers, and therefore cannot be neglected in biomechanical models. However, only a limited number of existing models incorporated muscle passive properties (Sancho-Bru etal., 2001; Keir and Wells, 2002). These models use passive finger muscle properties obtained from cadaveric work (Lee and Rim, 1990; Ranney etal., 1987) which were found to overestimate the passive joint torques measured in experiment (Qin etal., 2010). New data for the passive finger muscle force assessment parameters have been proposed, which can improve the estimation of muscle force using biomechanical models of the hand (Qin etal., 2010).  The objective of this study is to quantify the effect of wrist posture on resultant hand and forearm muscle stress (including both active and passive component) during tapping on a computer keyboard, using a computational biomechanical model. It is our hypothesis that non-neutral wrist postures increase muscle stress mainly due to increase of passive muscle resistance.   METHODS   A repeated-measures laboratory experiment was designed to measure the finger and wrist joint angles and fingertip force during index finger tapping in four wrist postures. This study chose single finger tapping motion because tapping is a basic cyclic motion similar to more complex typing activities. From experimental measurements, inverse dynamics calculated external net joint torques, and a biomechanical model estimated the internal joint torque created by muscle-tendon units.  Ten healthy participants (five females and five males, mean age 28.16.0 years) volunteered in the experimental study. Written informed consent was obtained, and all protocols and forms were approved by the Harvard School of Public Health Institutional Review Board. Index finger segment length, width, and thickness (measured at the midpoint of each segment) were measured prior to data collection (Table1                         ). All subjects were right-handed.  Subjects were seated at an instrumented workstation where a split keyboard was adjusted so that the surface of the keys was approximately at each subject's seated elbow height. A six-degree-of-freedom force transducer (F/T Sensor Gamma, ATI Industrial Automation, Apex, USA) was secured underneath the keyboard to measure force and torque applied to the right hand side of the split keyboard. No forearm or palm support was provided.  The adjusted keyboard angle and horizontal location provided four different wrist postures (Fig.1                         ): neutral (NTL): subjects' right acromion was aligned with the F6 key and the keyboard was placed on a horizontal surface, adducted (ADD): subjects' midline of the trunk was aligned with the F6 key and the keyboard was placed on a horizontal surface, extended (EXT): keyboard was tilted positively towards the subject at 18, and flexed (FLX): keyboard was tilted negatively away from the subject at 18. These postures were selected as they represent a typical range of wrist postures associated with keyboard use and related guidelines (Asundi etal., 2011).  Subjects completed four 10-s trials in each wrist posture, during which subjects tapped with their right index finger on the keyboard's F6 key selected to optimize data recording of the finger motion. Subjects were asked to tap in sync with a metronome at 3Hz while maintaining the elbow and shoulder in a fixed posture. Subjects were instructed to keep the upper arm at the side of the trunk and the elbow angle at 90.  An infrared three-dimensional motion analysis system (Optotrak Certus, Northern Digital, Waterloo, Canada) tracked trajectories of the trunk, upper arm, forearm, hand, and index finger segments. Rigid body structures consisting of three active markers were attached on the trunk, upper arm, forearm, and hand. Two individual active markers were placed dorsally on each segment of the index finger along the long axis (Fig.1). Anatomical landmarks locations relative to the cluster markers were digitized using a probe. The digitized landmarks included Incisura Jugularis, left and right acromion process, lateral and medial epicondyle, ulnar and radial styloid, metacarpophalangeal joint (MCP) of the index (side), middle (top) and little finger (side). Anatomical coordinate systems were constructed based on methods described previously (Asundi etal., 2010). The center of the force transducer and the position of the F6 key switch were also digitized, and center of pressure was calculated. The moments generated by the fingertip force on the force transducer were calculated and included in inverse dynamics described in the next section. The wrist and finger joint angles at each sample point were computed from forearm and hand segment trajectories. The reference posture was defined to be the posture when the finger, the 3rd metacarpal bone and the radius were aligned in both the coronal and sagittal planes (Dennerlein and Johnson, 2006; Qin etal., 2010). The motion and force data were collected at 100Hz, low-pass filtered at 10Hz with a fourth order Butterworth filter.  The hand and wrist was modeled as a four-segment-linkage system with the distal interphalangeal joints (DIP and PIP) as one degree-of-freedom hinge joints, and the second metacarpophalangeal joint (MCP) and wrist as two degree-of-freedom joints (flexion/extension, adduction/abduction). Based on anthropometric data, external force/moment at the fingertip measured by the force transducer, and trajectories of the markers, a multi-segment inverse dynamic model (Kingma etal., 1996; Kuo etal., 2006) calculated external joint torques. Index finger segments were assumed to be uniform elliptic cylinder with center of mass at the midpoint of each segment; hand inertia properties were estimated using nonlinear regression method from anthropometric data (Zatsiorsky, 2002). For each joint, only the muscles/tendons that articulate the joint were included (Table2                            ).  Mechanical equilibrium requires that the sum of the moments created by individual muscle forces must be equal to the resultant joint moments from inverse dynamics.                                                                 (1)                                                                                                                                                          M                                           j                                                                                                                                                                                                                                                            i                                              =                                              1                                                                                      m                                                                                                                                                                         R                                                                                               i                                                 j                                                                                                                                                                                                                             F                                              i                                                                                                                           =                                        0                                                                                                                                  where M                                                           j                             is the measured joint moment from inverse dynamics at joint j (j=1,2,3,4 representing DIP, PIP, MCP and wrist respectively), R                                                           ij                             is the moment arm of muscle-tendon unit i (i=1,,10) with respect to joint j, F                                                           i                             is the force of muscle-tendon unit i. The ten muscle-tendon units included in the model were lumped extensor digitorum and extensor indicis muscle (LE), flexor digitorum superficialis (FDS), flexor digitorum profundus (FDP), radial interossei (RI), ulnar interossei (UI), lumbricales (LUM), extensor carpi radialis (ECR), extensor carpi ulnaris (ECU), flexor carpi radialis (FCR), and flexor carpi ulnaris (FCU). Four tendons in the index finger extensor mechanism included in the model were terminal extensor (TE), extensor slip (ES), radial band (RB), and ulnar band (UB).  Muscle/tendon moment arms and length excursion were computed using joint angle and existing data reported in the literature (Qin etal., 2010). Multiple sources of data and method were used including normative model and tendon moment arms for the index finger (Chao, 1989), finger flexor model (Armstrong and Chaffin, 1978), and the wrist model (Brand and Hollister, 1999; Lemay and Crago, 1996). Hand muscle moment arms were scaled based on measured finger anthropometry. Wrist muscle moment arm values were adopted directly from the literature due to lack of scaling factor. Examples of moment arm values at the neutral posture are presented in Table2. Muscle length excursion (                                                                                                   l                                                           ) was calculated at each instant in time as the muscle length change from the reference posture. For muscles that articulate multiple joints, the excursion at each joint were summed to calculate total muscle length excursion.  The instantaneous total force exerted by a muscle-tendon unit (F) can be calculated by a lumped Hill-type model (Zajac, 1989):                                                                 (2)                                                                                                               F                                        =                                                                                   F                                                                                         max                                                                                                                                                                      [                                                                                                                                          f                                                 a                                                                                                                                             (                                                 l                                                 )                                                                                            f                                                                                               (                                                 v                                                 )                                                                                            a                                              +                                                                                               f                                                 p                                                                                                                                             (                                                 l                                                 )                                                                                                                                    ]                                                                                                                                                                          where                                                                                                       f                                     a                                                                                                         (                                     l                                     )                                                                                              and                                                                                                       f                                     p                                                                                                         (                                     l                                     )                                                                                              are respectively the normalized active and passive muscle forcelength relationships,                                                                  f                                                                       (                                     v                                     )                                                                                              is the normalized muscle forcevelocity relationship, a is muscle activation level, and F                            max is the maximum isometric muscle force which can be calculated as following (An and Cooney, 1991)                                                                 (3)                                                                                                                                                          F                                                                                         max                                                                                                                           =                                        P                                        C                                        S                                        A                                                                                                                                                                                                                    max                                                                                                                                                                                                                     where                                                                                                       p                                                                             max                                                                                                                                  =45N/cm (Holzbaur etal., 2005) is the maximum stress the muscle can bear, which has been considered the same for each muscle (An and Cooney, 1991).  The instantaneous total force of muscle-tendon unit i (F                                                           i                            ) can then be written as the sum of active (F                                                           i_active) and passive (F                                                           i_passive) components.                                                                 (4)                                                                                                                                                          F                                           i                                                                                =                                                                                   F                                                                                         i                                              _                                              a                                              c                                              t                                              i                                              v                                              e                                                                                                                           +                                                                                   F                                                                                         i                                              _                                              p                                              a                                              s                                              s                                              i                                              v                                              e                                                                                                                           =                                                                                   a                                           i                                                                                                                        P                                        C                                        S                                        A                                                                                                                                                                                                                    max                                                                                                                                                                                                              f                                                                                         i                                              _                                              a                                                                                                                                                                      (                                           l                                           )                                                                                                                                                                   f                                           i                                                                                                                           (                                           v                                           )                                                                                +                                                                                   F                                                                                         i                                              _                                              p                                              a                                              s                                              s                                              i                                              v                                              e                                                                                                                                                                                                                                                Active forces depend on muscle activation level (a                                                           i                            ), muscle physiological cross-sectional area (PCSA                                                           i                            ) (Chao, 1989), muscle maximum capacity (                            max), muscle length factor (f                                                           i_a                            (l)), and muscle contraction velocity factor (f                                                           i                            (v)). f                                                           i_a                            (l) and f                                                           i                            (v) were determined by normalizing to the generic force-length and forcevelocity curves based on muscle length excursion, muscle pennation angle (Lieber etal., 1990; Jacobson etal., 1992; Lieber and Friden, 2002), maximum force generating capacity (Holzbaur etal., 2005), optimal fiber length (Chao, 1989), and maximum muscle contraction velocity (Asakawa etal., 2003).  Based on Hill-type model in Eq. (2), passive force is related to maximum active force and muscle length. In practice, passive muscle force is often modeled by an exponential relationship with muscle length change,                                                                 (5)                                                                                                                                                          F                                                                                         p                                              a                                              s                                              s                                              i                                              v                                              e                                                                                                                           =                                                                                                                              1                                                                                                                                                                   e                                                                                                                                                                                           2                                                                                                                                                                                        l                                                                                                                                                                                                                     where                             1 and                             2 represent muscle-dependent constants, and                                                                                                    l                                                            represents total muscle excursion (length change) from the reference position. Passive force model parameters                             1 and                             2 are associated with muscle architectural parameters including PCSA, pennation angles, maximal active force and muscle bundle length (Woittiez etal., 1984).                             1 and                             2 of FDP, FDS, LE, RI, UI and LUM used the recently updated values (Qin etal., 2010), and for ECR, ECU, FCR and FCU we used previously reported values (Keir etal., 1996).  The equilibrium of joint moments (Eq. (1)) yield four constraint balances involving ten unknown muscle-tendon tensions, which leads to an indeterminate problem. Given the external net joint torque, an optimization routine sought muscle forces that could balance external joint torque. The objective function of the optimization routine minimized squared sum of muscle stresses. This cost function has been used previously to determine muscle force sharing in the upper extremity (e.g. An etal., 1984; Crowninshield and Brand, 1981; Dennerlein etal., 1998a; Hughes and An, 1997; Li and Zhang, 2010; Pedotti etal., 1978; Sancho-Bru etal., 2001; Vigouroux etal., 2006; Yamaguchi etal., 1995).  Find F                                                           i                             that minimize:                                                                 (6)                                                                                                               J                                        =                                                                                                                              i                                                                                                                                                                                                                                                                              (                                                                                                                                                                                                                                                                                                  F                                                                i                                                                                                                                                                                 /                                                                                                                       P                                                             C                                                             S                                                             A                                                                                                                                                                                                                         )                                                                                                                                             2                                                                                                                                                                                                                                                subject to: Eq. (1)                                                                                             (7)                                                                                                                                                          F                                                                                         i                                              _                                              p                                              a                                              s                                              s                                              i                                              v                                              e                                                                                                                                                                                                              F                                           i                                                                                                                        P                                        C                                        S                                                                                   A                                           i                                                                                                                                                                                                                                                            max                                                                                                                           +                                                                                   F                                                                                         i                                              _                                              p                                              a                                              s                                              s                                              i                                              v                                              e                                                                                                                                                                                                                                                                                                                  (8)                                                                                                               0                                                                                                                           a                                           i                                                                                                                        1                                                                                                                                                                                                                               (9)                                                                                                                                                                                                        T                                              E                                              =                                              0.985                                                                                               (                                                                                                     R                                                    B                                                    +                                                    U                                                    B                                                                                                  )                                                                                                                                                                                                                                                                  R                                              B                                              =                                              0.67                                              L                                              U                                              M                                              +                                              0.15                                              L                                              E                                                                                                                                                                                                                    U                                              B                                              =                                              0.33                                              U                                              I                                              +                                              0.15                                              L                                              E                                                                                                                                                                                                                    E                                              S                                              =                                              0.33                                              L                                              U                                              M                                              +                                              0.7                                              L                                              E                                              +                                              0.67                                              U                                              I                                                                                                                                                                                                                                                The model was implemented using MATLAB and its optimization toolbox (fmincon function, MathWorks, Natick, MA). Muscle stress was chosen as the dependent variable because it normalizes the forces to the size of the muscle. Muscle PCSA was not measured in this study, however, using the values form the literature provides relative normalization across the bigger and smaller muscles of the forearm/hand. Other constraints include lower and upper boundaries of the muscle-tendon unit force and muscle activation level. The passive muscle force was the lower bound, and the sum of the passive force and maximum isometric muscle force was the upper bound of the optimization algorithm (Eq. (7)).  Empirical relations of the force distribution of the extensor mechanism (Chao, 1989; Brook etal., 1995) were added in the model as additional constraints (Eq. (9)) because they represent approximate extensor hood mechanism geometry and available anatomical knowledge. However, these relations have limitations because they are empirical and deductive  the coefficients in Eq. (9) may not be the precise values that represent force distribution among everybody. Therefore, the four tendon forces estimated from Eq. (9) were allowed to vary within a 10% margin in the optimization procedure.  Data from the last 16 taps of each trial were collapsed into one average tap for each condition and for each subject. This was completed by aligning kinematic and kinetic data for each tap at the time of maximum vertical tapping force and averaging cross all taps over the average length of one tap. To compare four experimental conditions and test the study hypothesis, mean torques and muscle forces across ten subjects for each wrist condition were computed for the average tap. Repeated measures ANOVA was used to compare mean muscle stresses across four wrist conditions. Significant findings on the ANOVA (0.05) were followed-up with the Tukey Post-Hoc test for pairwise comparisons.   RESULTS   The wrist was on average extended 21.8 (8.9) degrees in the extended (EXT) condition, adducted 20.8 (3.8) degrees in the adducted (ADD) condition, and flexed 18.5 (10.9) degrees in the FLX condition (Table3                      ), all significantly different from the wrist posture in the neutral (NTL) condition (Tukey test p<0.0001). MCP joint flexion angle in ADD condition was less than other conditions. MCP adducted 3.4 (7.0) degrees in FLX condition while abducted in other conditions. Mean wrist extension torque was larger during tapping in NTL and FLX configurations compared to ADD and EXT (Table3). Mean wrist adduction torque did not differ among conditions. The maximum vertical fingertip force during tapping in flexed wrist posture (1.580.37N) was higher than other conditions, although no statistical difference was found among conditions.  Estimated muscle stresses varied temporally during a typical tap (Fig.2                      ). Finger flexor (FDS and FDP) stresses increased shortly after the contact with the key switch, peaked around the point of maximum fingertip force, and gradually decreased afterwards. Finger extensor (LE) stress decreased before the finger-key contact, remained low during contact and increased after the contact. The stress of intrinsic muscle UI had a similar temporal pattern as the flexors but greater in magnitude while RI and LUM stress were low throughout the tap. Muscle stresses of wrist extensors ECR and ECU peaked at the time of keystroke and remained higher than 4.5N/cm during the tap. Wrist flexors FCR and FCU stresses were lower than 0.5N/cm throughout the whole duration of a tap. These patterns were similar among different conditions and across subjects.  Forearm extensor stress averaged across the taps varied among the four wrist postures (Table4                      ) for both the passive (p<0.0001 for LE, ECR, and ECU) and the active component (p=0.01, 0.08, and <0.0001 for LE, ECR, and ECU, respectively). The total muscle stress (sum of passive and active muscle force) varied for ECU (p<0.0001) and LE (p=0.003) and ECR (p=0.06) among four experimental conditions. The passive stress of the wrist extensors (ECR and ECU) were less than 0.4N/cm, while the active components were greater than 1.5N/cm. The highest total muscle forces of three extensors occurred in the flexed wrist posture.  The total muscle stresses of the flexors (FDS, FDP, FCR, and FCU) were smaller than the extensors stresses (Table4). The passive components but not the active components of flexor stress were affected by the wrist posture during tapping (p<0.0001). The extended wrist posture was associated with the highest passive flexor stresses, while the flexed wrist posture was associated with the lowest passive flexor stresses. For the hand intrinsic muscles, the total muscle stress for UI showed total stress of more than 3.0N/cm while RI and LUM stresses were less than 0.8N/cm. The highest total muscle forces of three intrinsic muscles occurred in the adducted wrist posture.   DISCUSSION   This study aimed to estimate hand and wrist muscle stresses during tapping in four wrist postures, testing the hypothesis that tapping in non-neutral wrist postures would increase the muscle stress compared to tapping in a neutral wrist posture. Active and passive muscle stress components estimated from a musculoskeletal model indicated that extensor muscles exhibited higher muscle stresses than other muscles, and the hypothesis that non-neutral wrist postures increase muscle stress was confirmed. Specifically, flexed wrist posture increases muscle stress among extensors, extended wrist postures increases muscle stress among flexors (mainly due to passive muscle force), and adducted wrist posture increases intrinsic muscle stress. Extensors borne constant high muscle stress during tapping without support, which was needed to balance the flexion torques created by the weight on the hand. This might be a reason why tendonitis is more prevalent for extensors than flexors among computer users (Gerr etal., 2002). Extensors, including ECR, ECU, and LE, experienced greater muscle stress than other muscles across four wrist postures. Extensor stress in flexed wrist posture is greater than other wrist postures. As the wrist changes from neutral to flexed posture, extensor moment arms decrease requiring higher muscle forces to balance the external torques and therefore resulted in increased stress on the extensors. In addition, more flexed wrist posture increases the length of the muscle therefore increases the passive component of the force, adding additional stress on the extensors.  Model results showed that both passive and active muscle forces were affected by the wrist postures among extensors and intrinsic muscles. Only passive muscle forces were affected by wrist posture among flexors, and in fact FCR and FCU were not activated during the task. Using a static model, Keir and Wells (2002) reported that as the wrist extension increased from 0 to 30 the joint moment contribution from the extrinsic finger flexor muscle passive forces increased significantly, whereas the active muscle forces were not affected by the wrist posture. This is consistent with the findings of this study. However, the contribution from passive muscle force to joint moment reported by Keir and Wells (2002) was much higher than our findings. This may be due to overestimation of passive joint torques using passive muscle properties measured invitro (Lee and Rim, 1990) and evaluation of only the static postures. Recent data of passive finger muscle parameter values used (Qin etal., 2010) in the current model improve estimation of the passive torques of finger joint, therefore can provide better estimation of active and total muscle force of the hand.  The temporal patterns of muscle stress/force (Fig.2) coincided with key tapping motion. Similar to the patterns observed previously using intramuscular fine-wire electromyography during keyboard typing (Dennerlein etal., 1998b), a burst of LE activity lifted the finger before the keystroke; just after contacting with the key, a burst of flexor activity moved the fingertip further downward counteracting the resistance from the key switch; at the end of the fingertip-key contact, another burst of LE activity lifted the finger preparing for the next tap. Out results showed that wrist extensor also facilitated the tapping motion. ECR and ECU forces decrease before each tap to facilitate the downward fingertip motion and then increase rapidly to help lift the fingertip up again. Kuo etal. (2006) measured both the intrinsic and extrinsic finger muscle during tapping. The activity patterns of the intrinsic muscles mostly coincided with the extrinsic flexor muscles. Our results showed that UI stress had similar peaking patterns with extrinsic flexors however the magnitude were higher than the flexors. The high levels of UI stress may serve to help extrinsic flexor overcome the activation force of the key switch, control the fast extension of IP joints during downswing, maintain position of the index finger in the plane of adduction/abduction, and stabilize the MCP joint by increasing its stiffness (Darling and Cole, 1990; Kuo etal., 2006).  The model predicted finger muscle stresses were within the range of values reported in other studies. During tapping in NTL condition, current model predicted peak LE, FDP, and FDS stress to be 5.8, 1.1, and 0.7N/cm2, respectively. They were comparable to the invivo measurement during flexion-extension task (FDP=0.31 and FDS=0.42.3N/cm2) (Kursa etal., 2006) and during isometric flexion task (FDS=1.4N/cm2) (Dennerlein etal., 1998a). Previous models have estimated muscle forces for finger pinching task (LE=12.5, FDP=1, FDS=0N/cm2) (Brook etal., 1995) and for free finger flexion-extension task (LE=3.1, FDP=0.4, FDS=0N/cm2) (Sancho-Bru etal., 2001). The extensor muscle stresses estimated by our model during tapping were between the pinching task and free flexion-extension task, and all three tasks showed small flexor muscle stress. The difference in extensor stress was likely due to the levels of external contacting forces in these tasks. The fingertip force is likely to be the highest during pinch task, followed by tapping, and there was no external force during free finger flexion-extension movement. The wrist muscles were not included in previous models. Future biomechanical models including the wrist are needed to crosscheck the estimated stresses of the wrist muscles.  Other studies measured muscle loading using electromyography (EMG). For comparison purpose, muscle stresses presented in the current study were converted to muscle activation as a percentage of maximum voluntary contraction (%MVC), assuming that the maximum muscle stress value of all muscles is 45N/cm (Holzbaur etal., 2005), and there is an approximately linear correlation between muscle stress and muscle activation level for EMG less than 15% MVC typically seen during computer tasks (Bruno Garza etal., 2012; Lee etal., 2009; Simoneau etal., 2003). Take the neutral (NTL) wrist posture as an example, the muscle activation can be estimated to be approximately 10.0%, 12.3%, 7.3%, and 7.0% MVC for the LE, ECR, ECU, and UI muscles, respectively. Muscle activation levels for other muscles were smaller than 1% MVC. Lee etal. (2009) measured two intrinsic and three extrinsic hand muscles using intramuscular electromyography (EMG) during index finger tapping. Muscle amplitude for extensor digitorum communis (one of the LE muscles) and UI were about 4% and 8% MVC, respectively. Muscle activation of FDS and FDP was about 8% MVC, higher than our results. However, participants rested the hand and the wrist on a fixed platform in their experiment while no support was used in our study. With a rest, participants need to rely solely on the flexors for downward motion and activation of the key switch without the help from the wrist, therefore more flexor activities and less extensor activities were required compared to the current study. Forearm muscle EMG during typing on standard keyboard in difference wrist postures were reported to be about 12%, 8%, 5%, and 2% MVC of ECU, ECR, FCU, and FCR muscles, respectively (Bruno Garza etal., 2012; Simoneau etal., 2003). In those studies, participants typed text letters on a full-size keyboard with both hands without wrist support or performed normal keyboard and mouse activities at work. The differences in study protocols should be considered in comparing the results between studies.  The findings need to be considered within the context of the study's limitations. Results may not be representative of other common typing conditions. For instance, using palm and/or wrist supports could reduce muscle's burden from gravity and thus reduce extensor muscle stress, and tapping speed was paced by a metronome to control potential confounding effect by speed. Additionally, only four basic wrist postures were tested for the model. More complicated wrist postures need to be tested to expand the database of muscle loading in keying tasks. For example, a wrist both extended and adducted may lead to more stretched FCR muscle than the postures tested in this study. As a result, FCR may experience higher passive stresses, which may alter the dynamics of force distribution among other muscles. An inherent aspect of many biomechanical models is that muscle anatomical and physiological parameters affect the model estimated muscle force and stress. Available parameter values in the literature were often measured and averaged from cadaver samples which may introduce errors to model estimated muscle force/stress. For instance, during zero wrist flexion and abduction, ECR moment arm at wrist was about 8mm according to Pigeon etal. (1996) and about 10mm in other studies (Lemay and Crago, 1996; Gonzalez etal., 1997). This discrepancy would have led to a larger predicted ECR stress if moment arm data by Pigeon etal. was used. However, all these studies reported that ECR and ECU moment arms decrease monotonically as the wrist changed from neutral to more flexed postures. Given that the goal of this study was to compare muscle stress between different wrist postures in a repeated design experiment, the observed differences between conditions are not likely to be affected although the magnitude of estimated muscle stress could change with different parameter values.  The static optimization algorithm used in this study assumes the central controller determines the desired joint moments and then distributes activity among the muscles such that necessary moments are generated. The cost function in Eq. (6) is frequency employed because of its physiological background related to muscle fatigue (Erdemir etal., 2007; Tsirakos etal., 1997). However, such assumption only represents one potential strategy of the motor control and this method does not take into consideration of antagonist co-contraction. Another limitation is that the results estimated by the biomechanical model were compared to previously reported muscles stress or EMG measurements rather than direct validation. However, the present study is not intended to estimate muscle force precisely but to test the effect of different wrist postures on muscle loading. Future research could use EMG-based models to estimate muscle force to cross validate model results.  The model presented in this study has three strengths over existing ones. First, it uses the improved data of passive finger muscle forces which can provide better invivo joint torque assessment than using previous invitro data. Therefore, the model estimation of active component of muscle stress was also improved. Second, this model incorporates the dynamic properties of the muscle. Thirdly, both wrist muscles and finger muscles were included in the model. Neutral wrist posture has been promoted in many ergonomic guidelines of computer keyboard use based on epidemiologic evidence. Deviated postures directly affect internal loading which may lead to musculoskeletal disorders. This study demonstrated that the internal tissue loading on the hand and forearm musculature was indeed higher when wrist was in non-neutral postures during tapping. Wrist posture affects muscle groups (extensor, flexor and intrinsic hand muscles) differently, however the neutral wrist posture was the optimal option among the four postures tested when all muscles were considered.   ACKNOWLEDGEMENTS   The authors thank Dr. Krishna Asundi, Dr. Justin Young and Dr. Devin Jindrich for their assistance in preparing this manuscript. This work was funded in part by NIOSH                    R01OH008373, and the NIOSH ERC at Harvard University grant (T42OH008416-05).   \""
            ]
          },
          "metadata": {
            "tags": []
          },
          "execution_count": 279
        }
      ]
    },
    {
      "cell_type": "code",
      "metadata": {
        "id": "XIK6aj99e0xE",
        "colab_type": "code",
        "outputId": "51fddf85-5970-4299-9cf6-f35112b3ea83",
        "colab": {
          "base_uri": "https://localhost:8080/",
          "height": 122
        }
      },
      "source": [
        "dummy_body = body_main.lower()\n",
        "dummy_body = re.sub('[^\\w\\s\\d\\.]','',dummy_body)\n",
        "dummy_body = ' '.join(dummy_body.split())\n",
        "dummy_body = dummy_body.split(\".\")\n",
        "dummy_body[:5]"
      ],
      "execution_count": 0,
      "outputs": [
        {
          "output_type": "execute_result",
          "data": {
            "text/plain": [
              "['nonneutral wrist posture is a risk factor of the musculoskeletal disorders among computer users',\n",
              " ' this study aimed to assess internal loads on hand and forearm musculature while tapping in different wrist postures',\n",
              " ' ten healthy subjects tapped on a key switch using their index finger in four wrist postures straight ulnar deviated flexed and extended',\n",
              " ' torque at the finger and wrist joints were calculated from measured joint postures and fingertip force',\n",
              " ' muscle stresses of the six finger muscles and four wrist muscles that balanced the calculated joint torques were estimated using a musculoskeletal model and optimization algorithm minimizing the squared sum of muscle stress']"
            ]
          },
          "metadata": {
            "tags": []
          },
          "execution_count": 281
        }
      ]
    },
    {
      "cell_type": "code",
      "metadata": {
        "id": "5ThCpCdsP4mj",
        "colab_type": "code",
        "outputId": "9a1bf17e-ce04-477d-f2a2-6557098d7119",
        "colab": {
          "base_uri": "https://localhost:8080/",
          "height": 122
        }
      },
      "source": [
        "body = ' '.join(body_main.split())\n",
        "body = body.split(\".\")\n",
        "body[:5]\n",
        "\n",
        "# for x in body:\n",
        "#     if x == \" \":\n",
        "#         body.remove(x)\n"
      ],
      "execution_count": 0,
      "outputs": [
        {
          "output_type": "execute_result",
          "data": {
            "text/plain": [
              "['Non-neutral wrist posture is a risk factor of the musculoskeletal disorders among computer users',\n",
              " ' This study aimed to assess internal loads on hand and forearm musculature while tapping in different wrist postures',\n",
              " ' Ten healthy subjects tapped on a key switch using their index finger in four wrist postures: straight, ulnar deviated, flexed and extended',\n",
              " ' Torque at the finger and wrist joints were calculated from measured joint postures and fingertip force',\n",
              " ' Muscle stresses of the six finger muscles and four wrist muscles that balanced the calculated joint torques were estimated using a musculoskeletal model and optimization algorithm minimizing the squared sum of muscle stress']"
            ]
          },
          "metadata": {
            "tags": []
          },
          "execution_count": 282
        }
      ]
    },
    {
      "cell_type": "code",
      "metadata": {
        "id": "Jd7YGJmolQmg",
        "colab_type": "code",
        "outputId": "728aa9f5-d8be-418f-8b0f-55e7eb92efa7",
        "colab": {
          "base_uri": "https://localhost:8080/",
          "height": 34
        }
      },
      "source": [
        "for i,x in enumerate(dummy_body):\n",
        "  if (len(x.split())) < 3 or (len(x.split())) > 15: \n",
        "      dummy_body.pop(i)\n",
        "      body.pop(i)\n",
        "print(len(dummy_body),len(body))"
      ],
      "execution_count": 0,
      "outputs": [
        {
          "output_type": "stream",
          "text": [
            "205 205\n"
          ],
          "name": "stdout"
        }
      ]
    },
    {
      "cell_type": "code",
      "metadata": {
        "id": "o5VpabB2bC3h",
        "colab_type": "code",
        "outputId": "198a373b-fd4b-4f29-b9ac-ca72eeea3e95",
        "colab": {
          "base_uri": "https://localhost:8080/",
          "height": 54
        }
      },
      "source": [
        "dummy_highlights = highlights.lower()\n",
        "dummy_highlights = re.sub('[^\\w\\s\\d]','',dummy_highlights)\n",
        "dummy_highlights = ' '.join(dummy_highlights.split())\n",
        "dummy_highlights"
      ],
      "execution_count": 0,
      "outputs": [
        {
          "output_type": "execute_result",
          "data": {
            "text/plain": [
              "'we quantified the effect of four wrist postures during tapping on resulting finger and wrist muscle stress including both active and passive component neutral wrist posture was the optimal option among four tested wrist postures when all muscles were considered extensor muscles exhibited higher muscle stresses than flexors wrist extensors stress remained higher than 45ncm and wrist flexor stress remained below 05ncm during tapping'"
            ]
          },
          "metadata": {
            "tags": []
          },
          "execution_count": 284
        }
      ]
    },
    {
      "cell_type": "code",
      "metadata": {
        "id": "EW4EZc7MP4nP",
        "colab_type": "code",
        "outputId": "7835a16c-fa73-4c1f-9628-9e0b4a15f460",
        "colab": {
          "base_uri": "https://localhost:8080/",
          "height": 122
        }
      },
      "source": [
        "body_copy = []\n",
        "\n",
        "for x in dummy_body:\n",
        "    body_copy.append(stop_word_remove(x))\n",
        "        \n",
        "body_copy[:5]"
      ],
      "execution_count": 0,
      "outputs": [
        {
          "output_type": "execute_result",
          "data": {
            "text/plain": [
              "['nonneutral wrist posture risk factor musculoskeletal disorders computer users',\n",
              " 'healthy subjects tapped key switch index finger wrist postures straight ulnar deviated flexed extended',\n",
              " 'muscle stresses finger muscles wrist muscles balanced calculated joint torques estimated musculoskeletal model optimization algorithm minimizing squared sum muscle stress',\n",
              " 'wrist extensors stress remained higher 4',\n",
              " '5ncm wrist flexor stress remained 0']"
            ]
          },
          "metadata": {
            "tags": []
          },
          "execution_count": 286
        }
      ]
    },
    {
      "cell_type": "code",
      "metadata": {
        "id": "08vyXxsoP4na",
        "colab_type": "code",
        "outputId": "a5ef25bd-6976-404c-fb06-acaa473c8518",
        "colab": {
          "base_uri": "https://localhost:8080/",
          "height": 54
        }
      },
      "source": [
        "highlight_copy = []\n",
        "\n",
        "for x in dummy_highlights.split():\n",
        "    highlight_copy.append(stop_word_remove(x))\n",
        "    \n",
        "highlight_copy = \" \".join(sentence for sentence in highlight_copy)\n",
        "highlight_copy = \" \".join(highlight_copy.split())\n",
        "highlight_copy"
      ],
      "execution_count": 0,
      "outputs": [
        {
          "output_type": "execute_result",
          "data": {
            "text/plain": [
              "'quantified effect wrist postures tapping resulting finger wrist muscle stress including active passive component neutral wrist posture optimal option tested wrist postures muscles considered extensor muscles exhibited higher muscle stresses flexors wrist extensors stress remained higher 45ncm wrist flexor stress remained 05ncm tapping'"
            ]
          },
          "metadata": {
            "tags": []
          },
          "execution_count": 287
        }
      ]
    },
    {
      "cell_type": "code",
      "metadata": {
        "id": "xRCs5aCCv611",
        "colab_type": "code",
        "outputId": "ff4f4980-5755-439f-cc90-938ecbee8df2",
        "colab": {
          "base_uri": "https://localhost:8080/",
          "height": 1000
        }
      },
      "source": [
        "body_vectors = []\n",
        "\n",
        "\n",
        "for sent in body_copy:\n",
        "    sent_vec = []\n",
        "    for word in sent.split():\n",
        "        try:\n",
        "            sent_vec.append(glove_model[word])\n",
        "        except:\n",
        "            sent_vec.append(glove_model[\"visual\"])\n",
        "    body_vectors.append(sent_vec)\n",
        "    \n",
        "    \n",
        "body_vectors[0]"
      ],
      "execution_count": 0,
      "outputs": [
        {
          "output_type": "execute_result",
          "data": {
            "text/plain": [
              "[array([ 2.2245e-01,  5.3615e-01, -7.1301e-01,  6.5633e-01, -5.3046e-02,\n",
              "         3.9580e-01,  5.9489e-01, -1.1054e+00,  1.1245e-01,  1.3316e+00,\n",
              "         6.5991e-01,  2.2238e-01,  6.3796e-01, -1.2998e-03, -3.7614e-01,\n",
              "        -4.1864e-01, -5.9582e-01,  2.4691e-01, -3.0146e-01, -6.9246e-01,\n",
              "         2.6544e-01,  7.7190e-01, -8.4292e-01, -4.6789e-01,  8.7583e-01,\n",
              "        -1.1244e-01, -1.4159e+00, -1.8024e-01,  9.0787e-02, -6.8217e-01,\n",
              "         2.7249e+00, -7.7912e-03,  7.1974e-01, -2.1604e+00, -2.6023e-01,\n",
              "         1.0342e+00,  3.5889e-01, -1.9494e-01, -2.2193e-01, -1.9325e-01,\n",
              "         8.0300e-01,  5.6181e-01, -2.0182e-01, -6.4084e-02, -3.8681e-01,\n",
              "        -1.8003e-02,  1.3308e+00,  4.4911e-01,  1.5582e-01,  4.2052e-01],\n",
              "       dtype=float32),\n",
              " array([-0.38893  , -0.56157  , -0.1763   ,  0.12833  , -0.25144  ,\n",
              "         1.1199   ,  0.20211  ,  0.81796  ,  0.61214  , -0.22101  ,\n",
              "         0.8987   ,  0.030855 , -1.6053   ,  1.1091   ,  0.44131  ,\n",
              "         0.63059  , -1.3091   , -1.0743   , -0.57001  ,  0.12377  ,\n",
              "        -1.0554   ,  0.46265  , -0.2517   , -0.56681  , -0.18946  ,\n",
              "        -0.827    ,  0.45491  ,  0.65473  ,  0.46296  , -0.82768  ,\n",
              "         1.8619   ,  0.78599  ,  1.1222   ,  1.1266   , -0.29991  ,\n",
              "         1.0999   ,  1.1969   ,  0.44883  ,  0.50516  , -0.17813  ,\n",
              "         0.0031934,  0.57452  , -0.61097  ,  0.67771  ,  0.30456  ,\n",
              "        -0.74259  ,  1.2457   , -0.23845  , -0.81382  , -0.21428  ],\n",
              "       dtype=float32),\n",
              " array([-0.30606  , -0.48473  , -0.76835  , -0.9174   ,  0.85665  ,\n",
              "        -0.43428  ,  1.6436   , -0.48655  ,  0.083913 , -0.7228   ,\n",
              "         0.0092973,  0.21867  , -0.22947  ,  0.90071  , -1.3298   ,\n",
              "         0.55134  , -0.41348  ,  0.086703 ,  0.41437  , -0.26846  ,\n",
              "        -1.1511   ,  0.39816  , -0.5078   , -0.80969  ,  0.50382  ,\n",
              "        -0.99348  ,  0.59686  ,  0.735    ,  0.31157  ,  0.52847  ,\n",
              "         1.5677   ,  0.31576  ,  0.015077 , -0.2935   , -0.44301  ,\n",
              "         0.081023 ,  0.35261  , -0.06973  , -1.4198   , -0.76056  ,\n",
              "        -0.45933  , -0.75589  ,  0.013647 ,  0.79028  ,  0.73664  ,\n",
              "        -0.34352  ,  0.97311  ,  0.17852  , -0.17693  ,  0.78055  ],\n",
              "       dtype=float32),\n",
              " array([ 1.0392  ,  0.046584,  0.4527  , -0.76761 , -0.21841 ,  1.0486  ,\n",
              "         0.57922 ,  0.11241 ,  0.92903 ,  0.30664 ,  0.50477 ,  0.16649 ,\n",
              "        -0.095533, -0.23039 ,  0.49677 ,  0.72215 ,  0.44091 , -0.54112 ,\n",
              "        -0.15558 , -0.30254 , -0.21141 , -0.25978 ,  0.30421 , -0.052493,\n",
              "        -0.113   , -1.6159  , -0.21783 , -0.20239 ,  0.71319 ,  0.86507 ,\n",
              "         3.0954  ,  0.80923 ,  0.63845 , -1.0486  , -0.22156 , -0.30308 ,\n",
              "        -0.084318, -0.49396 ,  0.59759 , -0.61887 , -0.75771 , -0.17446 ,\n",
              "         1.011   ,  1.0075  ,  0.86865 , -0.48037 , -0.024087,  0.82598 ,\n",
              "         0.79648 ,  0.55488 ], dtype=float32),\n",
              " array([-0.13508  ,  0.64285  ,  0.47001  ,  0.38433  ,  0.63782  ,\n",
              "         0.80619  ,  1.0633   , -0.093715 ,  0.61549  ,  0.86553  ,\n",
              "         0.7366   ,  0.070487 , -0.52103  , -0.216    ,  0.13957  ,\n",
              "         0.42124  ,  0.19796  , -0.37795  , -0.24283  , -0.22027  ,\n",
              "        -0.20754  , -1.2214   ,  0.38439  ,  0.16929  , -0.07804  ,\n",
              "        -1.0305   , -0.90509  , -0.32155  ,  0.96747  ,  0.90569  ,\n",
              "         2.3381   ,  0.99327  ,  0.41942  , -1.3073   ,  0.15502  ,\n",
              "        -0.59118  ,  0.018781 , -0.089312 ,  0.0073657, -0.013588 ,\n",
              "        -0.6654   ,  0.19567  , -0.81002  , -0.026828 , -0.006871 ,\n",
              "        -0.074112 ,  0.36013  ,  0.38322  ,  0.76733  ,  0.92526  ],\n",
              "       dtype=float32),\n",
              " array([ 0.56172 , -0.84256 , -0.37384 ,  0.27329 , -1.2729  ,  1.1588  ,\n",
              "         1.0046  , -1.0938  ,  0.58633 , -0.45127 ,  0.76125 , -0.010332,\n",
              "         0.035615, -0.69918 , -0.076561,  0.1974  , -1.349   ,  0.10638 ,\n",
              "         0.61253 ,  0.028634, -1.3718  ,  0.24953 , -0.7597  , -0.74882 ,\n",
              "         0.17073 ,  0.85928 , -0.53007 , -0.62865 , -0.1905  , -0.15251 ,\n",
              "         0.79114 ,  0.60838 ,  0.97526 , -0.88278 , -0.75767 ,  1.2605  ,\n",
              "         0.55439 , -0.45863 ,  2.1007  ,  0.65359 , -0.63206 , -0.27052 ,\n",
              "         0.40545 ,  1.6715  ,  0.80502 ,  0.56223 ,  0.97026 ,  0.59429 ,\n",
              "        -0.14117 ,  0.18431 ], dtype=float32),\n",
              " array([ 0.97529 ,  0.42419 , -0.74269 ,  0.1749  , -0.62116 ,  1.8113  ,\n",
              "         1.036   , -0.96244 ,  0.32789 ,  0.50002 ,  0.92984 , -0.36422 ,\n",
              "         0.072873, -0.32452 , -0.044501,  0.17174 , -1.5668  , -0.14772 ,\n",
              "         0.43153 ,  0.3089  , -1.0437  ,  0.32751 ,  0.43827 ,  0.27669 ,\n",
              "        -0.16044 , -0.034385, -1.0375  , -0.86362 , -0.033554,  0.73504 ,\n",
              "         2.1739  ,  0.70007 ,  0.81056 , -1.9258  , -0.37102 ,  0.5026  ,\n",
              "         0.27871 ,  0.039513,  1.7104  ,  0.77803 , -0.44957 , -0.40782 ,\n",
              "        -0.2799  ,  2.0355  ,  1.5728  ,  0.41242 ,  0.56439 ,  0.33929 ,\n",
              "         0.26843 ,  0.92105 ], dtype=float32),\n",
              " array([ 0.079084, -0.81504 ,  1.7901  ,  0.91653 ,  0.10797 , -0.55628 ,\n",
              "        -0.84427 , -1.4951  ,  0.13418 ,  0.63627 ,  0.35146 ,  0.25813 ,\n",
              "        -0.55029 ,  0.51056 ,  0.37409 ,  0.12092 , -1.6166  ,  0.83653 ,\n",
              "         0.14202 , -0.52348 ,  0.73453 ,  0.12207 , -0.49079 ,  0.32533 ,\n",
              "         0.45306 , -1.585   , -0.63848 , -1.0053  ,  0.10454 , -0.42984 ,\n",
              "         3.181   , -0.62187 ,  0.16819 , -1.0139  ,  0.064058,  0.57844 ,\n",
              "        -0.4556  ,  0.73783 ,  0.37203 , -0.57722 ,  0.66441 ,  0.055129,\n",
              "         0.037891,  1.3275  ,  0.30991 ,  0.50697 ,  1.2357  ,  0.1274  ,\n",
              "        -0.11434 ,  0.20709 ], dtype=float32),\n",
              " array([ 0.90765  , -0.39991  ,  1.7927   ,  0.42835  , -0.46017  ,\n",
              "        -0.23512  , -0.85793  , -0.9195   ,  0.91534  ,  1.2575   ,\n",
              "         0.46434  ,  0.26334  ,  0.84947  , -0.51763  ,  0.64886  ,\n",
              "         0.22263  , -0.94196  , -0.11931  ,  0.78245  , -1.0136   ,\n",
              "         0.25504  , -0.40043  ,  0.051296 ,  1.5242   ,  0.74244  ,\n",
              "        -0.78272  ,  0.34452  , -1.0669   ,  0.085098 , -0.64217  ,\n",
              "         3.195    ,  0.40802  , -0.033813 , -0.78644  , -0.16388  ,\n",
              "        -0.1141   , -0.062653 , -0.16559  , -0.68451  , -0.61069  ,\n",
              "         1.165    , -0.04058  ,  0.073825 ,  1.4728   ,  0.32837  ,\n",
              "        -0.20964  ,  0.46372  ,  0.051233 ,  0.38076  , -0.0098647],\n",
              "       dtype=float32)]"
            ]
          },
          "metadata": {
            "tags": []
          },
          "execution_count": 406
        }
      ]
    },
    {
      "cell_type": "code",
      "metadata": {
        "id": "yoAEJlNHv76p",
        "colab_type": "code",
        "colab": {}
      },
      "source": [
        "highlight_vectors = []\n",
        "\n",
        "\n",
        "for word in highlight_copy.split():\n",
        "    try:\n",
        "        highlight_vectors.append(glove_model[word])\n",
        "    except:\n",
        "        highlight_vectors.append(glove_model[\"visual\"])\n",
        "\n",
        "\n",
        "highlight_vectors"
      ],
      "execution_count": 0,
      "outputs": []
    },
    {
      "cell_type": "code",
      "metadata": {
        "id": "_g22TYwYwEL4",
        "colab_type": "code",
        "colab": {}
      },
      "source": [
        "from scipy.special import expit\n",
        "\n",
        "\n",
        "doc_score = []\n",
        "\n",
        "for sent in body_vectors:\n",
        "\n",
        "    sent_score = 0\n",
        "\n",
        "    for word in sent:\n",
        "        for w in highlight_vectors:\n",
        "            if (word == w).all():\n",
        "                sent_score+=1\n",
        "    try: \n",
        "      doc_score.append(expit(sent_score/len(sent)))\n",
        "    except:\n",
        "      doc_score.append(0)\n",
        "\n",
        "      \n",
        "y = doc_score\n",
        "y[:10]"
      ],
      "execution_count": 0,
      "outputs": []
    },
    {
      "cell_type": "code",
      "metadata": {
        "id": "lzNsNw3PwJXX",
        "colab_type": "code",
        "colab": {}
      },
      "source": [
        "# Import libraries\n",
        "\n",
        "from gensim.models import doc2vec\n",
        "from collections import namedtuple\n",
        "\n",
        "# Load data\n",
        "\n",
        "doc1 = [body_main]\n",
        "\n",
        "# Transform data (you can add more data preprocessing steps) \n",
        "\n",
        "docs = []\n",
        "analyzedDocument = namedtuple('AnalyzedDocument', 'words tags')\n",
        "for i, d in enumerate(doc1):\n",
        "    words = d.lower().split()\n",
        "    tags = [i]\n",
        "    docs.append(analyzedDocument(words, tags))\n",
        "\n",
        "# Train model (set min_count = 1, if you want the model to work with the provided example data set)\n",
        "\n",
        "model = doc2vec.Doc2Vec(docs, size = 100, window = 300, min_count = 1, workers = 4)\n",
        "\n",
        "# Get the vectors\n",
        "\n",
        "doc_vec = model.docvecs[0]\n",
        "doc_vec"
      ],
      "execution_count": 0,
      "outputs": []
    },
    {
      "cell_type": "code",
      "metadata": {
        "id": "0T0bfV4lwUNc",
        "colab_type": "code",
        "colab": {}
      },
      "source": [
        "doc2 = body_copy\n",
        "\n",
        "# Transform data (you can add more data preprocessing steps) \n",
        "\n",
        "docu = []\n",
        "analyzed = namedtuple('Analyzed', 'words tags')\n",
        "for i, f in enumerate(doc2):\n",
        "    wor = f.split()\n",
        "    tags = [i]\n",
        "    docu.append(analyzed(wor, tags))\n",
        "\n",
        "# Train model (set min_count = 1, if you want the model to work with the provided example data set)\n",
        "\n",
        "model = doc2vec.Doc2Vec(docu, size = 100, window = 300, min_count = 1, workers = 4)\n",
        "\n",
        "# Get the vectors\n",
        "\n",
        "sent_vectors = model.docvecs.vectors_docs"
      ],
      "execution_count": 0,
      "outputs": []
    }
  ]
}