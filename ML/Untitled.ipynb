{
 "cells": [
  {
   "cell_type": "code",
   "execution_count": 40,
   "metadata": {},
   "outputs": [],
   "source": [
    "from chemdataextractor import Document\n",
    "\n",
    "def chemData(text):\n",
    "  \n",
    "  doc = Document(text)\n",
    "  #abbreviations - list of tuples - first element of each tuple is the abbreviation , second uska full form and third element is CM if it is chemical mention else it is None\n",
    "  abbreviations = doc.abbreviation_definitions \n",
    "  #chemical entity mention - just a list of chemistry terms in the text\n",
    "  chemMentions = doc.cems\n",
    "  l=[]\n",
    "  for item in chemMentions:\n",
    "        l.append(str(item))\n",
    "  return list(set(l))"
   ]
  },
  {
   "cell_type": "code",
   "execution_count": 5,
   "metadata": {},
   "outputs": [
    {
     "name": "stdout",
     "output_type": "stream",
     "text": [
      "Successfully downloaded 18 new data packages (0 existing)\n"
     ]
    },
    {
     "name": "stderr",
     "output_type": "stream",
     "text": [
      "INFO:chemdataextractor.data:Downloading http://data.chemdataextractor.org/models/cem_crf-1.0.pickle to C:\\Users\\asus\\AppData\\Local\\ChemDataExtractor\\ChemDataExtractor\\models/cem_crf-1.0.pickle\n",
      "INFO:chemdataextractor.data:Downloading http://data.chemdataextractor.org/models/cem_crf_chemdner_cemp-1.0.pickle to C:\\Users\\asus\\AppData\\Local\\ChemDataExtractor\\ChemDataExtractor\\models/cem_crf_chemdner_cemp-1.0.pickle\n",
      "INFO:chemdataextractor.data:Downloading http://data.chemdataextractor.org/models/cem_dict_cs-1.0.pickle to C:\\Users\\asus\\AppData\\Local\\ChemDataExtractor\\ChemDataExtractor\\models/cem_dict_cs-1.0.pickle\n",
      "INFO:chemdataextractor.data:Downloading http://data.chemdataextractor.org/models/cem_dict-1.0.pickle to C:\\Users\\asus\\AppData\\Local\\ChemDataExtractor\\ChemDataExtractor\\models/cem_dict-1.0.pickle\n",
      "INFO:chemdataextractor.data:Downloading http://data.chemdataextractor.org/models/clusters_chem1500-1.0.pickle to C:\\Users\\asus\\AppData\\Local\\ChemDataExtractor\\ChemDataExtractor\\models/clusters_chem1500-1.0.pickle\n",
      "INFO:chemdataextractor.data:Downloading http://data.chemdataextractor.org/models/pos_ap_genia_nocluster-1.0.pickle to C:\\Users\\asus\\AppData\\Local\\ChemDataExtractor\\ChemDataExtractor\\models/pos_ap_genia_nocluster-1.0.pickle\n",
      "INFO:chemdataextractor.data:Downloading http://data.chemdataextractor.org/models/pos_ap_genia-1.0.pickle to C:\\Users\\asus\\AppData\\Local\\ChemDataExtractor\\ChemDataExtractor\\models/pos_ap_genia-1.0.pickle\n",
      "INFO:chemdataextractor.data:Downloading http://data.chemdataextractor.org/models/pos_ap_wsj_genia_nocluster-1.0.pickle to C:\\Users\\asus\\AppData\\Local\\ChemDataExtractor\\ChemDataExtractor\\models/pos_ap_wsj_genia_nocluster-1.0.pickle\n",
      "INFO:chemdataextractor.data:Downloading http://data.chemdataextractor.org/models/pos_ap_wsj_genia-1.0.pickle to C:\\Users\\asus\\AppData\\Local\\ChemDataExtractor\\ChemDataExtractor\\models/pos_ap_wsj_genia-1.0.pickle\n",
      "INFO:chemdataextractor.data:Downloading http://data.chemdataextractor.org/models/pos_ap_wsj_nocluster-1.0.pickle to C:\\Users\\asus\\AppData\\Local\\ChemDataExtractor\\ChemDataExtractor\\models/pos_ap_wsj_nocluster-1.0.pickle\n",
      "INFO:chemdataextractor.data:Downloading http://data.chemdataextractor.org/models/pos_ap_wsj-1.0.pickle to C:\\Users\\asus\\AppData\\Local\\ChemDataExtractor\\ChemDataExtractor\\models/pos_ap_wsj-1.0.pickle\n",
      "INFO:chemdataextractor.data:Downloading http://data.chemdataextractor.org/models/pos_crf_genia_nocluster-1.0.pickle to C:\\Users\\asus\\AppData\\Local\\ChemDataExtractor\\ChemDataExtractor\\models/pos_crf_genia_nocluster-1.0.pickle\n",
      "INFO:chemdataextractor.data:Downloading http://data.chemdataextractor.org/models/pos_crf_genia-1.0.pickle to C:\\Users\\asus\\AppData\\Local\\ChemDataExtractor\\ChemDataExtractor\\models/pos_crf_genia-1.0.pickle\n",
      "INFO:chemdataextractor.data:Downloading http://data.chemdataextractor.org/models/pos_crf_wsj_genia_nocluster-1.0.pickle to C:\\Users\\asus\\AppData\\Local\\ChemDataExtractor\\ChemDataExtractor\\models/pos_crf_wsj_genia_nocluster-1.0.pickle\n",
      "INFO:chemdataextractor.data:Downloading http://data.chemdataextractor.org/models/pos_crf_wsj_genia-1.0.pickle to C:\\Users\\asus\\AppData\\Local\\ChemDataExtractor\\ChemDataExtractor\\models/pos_crf_wsj_genia-1.0.pickle\n",
      "INFO:chemdataextractor.data:Downloading http://data.chemdataextractor.org/models/pos_crf_wsj_nocluster-1.0.pickle to C:\\Users\\asus\\AppData\\Local\\ChemDataExtractor\\ChemDataExtractor\\models/pos_crf_wsj_nocluster-1.0.pickle\n",
      "INFO:chemdataextractor.data:Downloading http://data.chemdataextractor.org/models/pos_crf_wsj-1.0.pickle to C:\\Users\\asus\\AppData\\Local\\ChemDataExtractor\\ChemDataExtractor\\models/pos_crf_wsj-1.0.pickle\n",
      "INFO:chemdataextractor.data:Downloading http://data.chemdataextractor.org/models/punkt_chem-1.0.pickle to C:\\Users\\asus\\AppData\\Local\\ChemDataExtractor\\ChemDataExtractor\\models/punkt_chem-1.0.pickle\n"
     ]
    }
   ],
   "source": [
    "!cde data download"
   ]
  },
  {
   "cell_type": "code",
   "execution_count": 3,
   "metadata": {},
   "outputs": [],
   "source": [
    "data='''Relative Nucleophilicities of HO-\n",
    " and HOH. Both water and hydroxide ion are\n",
    "nucleophiles, and in aqueous solutions of HO- the concentration of water is much higher than\n",
    "that of HO-. However since HO- is much more nucleophilic than HOH, even at low\n",
    "concentrations HO- reacts with C=O compounds much faster than HOH.'''"
   ]
  },
  {
   "cell_type": "code",
   "execution_count": 41,
   "metadata": {},
   "outputs": [
    {
     "data": {
      "text/plain": [
       "['HOH', 'HO', 'hydroxide', 'C=O']"
      ]
     },
     "execution_count": 41,
     "metadata": {},
     "output_type": "execute_result"
    }
   ],
   "source": [
    "chemData(data)"
   ]
  },
  {
   "cell_type": "code",
   "execution_count": 9,
   "metadata": {},
   "outputs": [
    {
     "data": {
      "text/plain": [
       "'HO'"
      ]
     },
     "execution_count": 9,
     "metadata": {},
     "output_type": "execute_result"
    }
   ],
   "source": [
    "data[30:32]"
   ]
  },
  {
   "cell_type": "code",
   "execution_count": 42,
   "metadata": {},
   "outputs": [],
   "source": [
    "import re"
   ]
  },
  {
   "cell_type": "code",
   "execution_count": 228,
   "metadata": {},
   "outputs": [],
   "source": [
    "data0='''\n",
    "\n",
    "The Pythagorean theorem is one of the earliest theorems. This famous theorem is named after the Greek mathematician and\n",
    "Philosopher, Pythagoras. Although the theorem was named after him but there is evidence that the Babylonians knew this relationship some 1000 years earlier. Plimpton 322, a Babylonian mathematical tablet dated back to 1900 B.C., contains a table of Pythagorean triples. The Chou-pei, an ancient Chinese text, also provides the evidence that the Chinese knew about the Pythagorean theorem many years before Pythagorean.\n",
    "\n",
    "The Pythagorean Theorem is Pythagoras' most famous mathematical contribution. According to the legend, Pythagoras was so happy when he discovered the theorem that he offered a sacrifice of oxen. The later discovery that square root of 2 is irrational\n",
    "and, therefore cannot be expressed as a ratio of two integers, greatly troubled Pythagoras and his followers.\n",
    "\n",
    "The Pythagorean theorem states that: \"The area of the square built on the hypotenuse of a right triangle is equal to the sum of the squares on the remaining two sides.\"\n",
    "The key formula of the pythogras theorem is that (hypotenuse)^2 = (opposite)^2+(adjacent)^2.\n",
    "This has many applications in real life problems\n",
    "'''"
   ]
  },
  {
   "cell_type": "code",
   "execution_count": 225,
   "metadata": {},
   "outputs": [],
   "source": [
    "txt='''\n",
    "math is avery important subject\n",
    "d=√(x₁–x₂)²+(y₁– y₂)²\n",
    "Slope=y₂–y₁/x₂–x₁\n",
    "area=(1/2)(base)(height)\n",
    "a²+b²=c²\n",
    "'''\n",
    "\n",
    "generalPattern1=r'([^\\n]+=[^\\n]+[^\\s])'\n",
    "generalPattern=r'([^\\s]+=[^\\s]+)'"
   ]
  },
  {
   "cell_type": "code",
   "execution_count": 229,
   "metadata": {},
   "outputs": [],
   "source": [
    "x = re.findall(generalPattern1, data0)"
   ]
  },
  {
   "cell_type": "code",
   "execution_count": 230,
   "metadata": {},
   "outputs": [
    {
     "data": {
      "text/plain": [
       "['The key formula of the pythogras theorem is that (hypotenuse)^2 = (opposite)^2+(adjacent)^2.']"
      ]
     },
     "execution_count": 230,
     "metadata": {},
     "output_type": "execute_result"
    }
   ],
   "source": [
    "x"
   ]
  },
  {
   "cell_type": "code",
   "execution_count": null,
   "metadata": {},
   "outputs": [],
   "source": []
  }
 ],
 "metadata": {
  "kernelspec": {
   "display_name": "Python 3",
   "language": "python",
   "name": "python3"
  },
  "language_info": {
   "codemirror_mode": {
    "name": "ipython",
    "version": 3
   },
   "file_extension": ".py",
   "mimetype": "text/x-python",
   "name": "python",
   "nbconvert_exporter": "python",
   "pygments_lexer": "ipython3",
   "version": "3.8.5"
  }
 },
 "nbformat": 4,
 "nbformat_minor": 4
}
