{
 "cells": [
  {
   "cell_type": "code",
   "execution_count": 1,
   "metadata": {},
   "outputs": [],
   "source": [
    "from fpdf import FPDF\n"
   ]
  },
  {
   "cell_type": "code",
   "execution_count": 47,
   "metadata": {},
   "outputs": [],
   "source": [
    "text='''\n",
    "Lorem Ipsum is simply dummy text of the printing and typesetting industry. Lorem Ipsum has been the industry's standard dummy text ever since the 1500s, when an unknown printer took a galley of type and scrambled it to make a type specimen book. It has survived not only five centuries, but also the leap into electronic typesetting, remaining essentially unchanged. It was popularised in the 1960s with the release of Letraset sheets containing Lorem Ipsum passages, and more recently with desktop publishing software like Aldus PageMaker including versions of Lorem Ipsum.\n",
    "'''\n",
    "sample_list = ['apple','banana','cashew','drinks','elephant','feather','ging']\n",
    "q_ans_list = [['question1','answer1'],['question2','answer2'],['question3','answer3'],['question4','answer4']]"
   ]
  },
  {
   "cell_type": "code",
   "execution_count": 54,
   "metadata": {},
   "outputs": [
    {
     "data": {
      "text/plain": [
       "''"
      ]
     },
     "execution_count": 54,
     "metadata": {},
     "output_type": "execute_result"
    }
   ],
   "source": [
    "pdf = FPDF()   \n",
    "# Add a page\n",
    "pdf.add_page()\n",
    "# set style and size of font \n",
    "# that you want in the pdf\n",
    "pdf.set_font(\"Arial\", size = 15)\n",
    "pdf.image('../static/img/logopdf.jpg',100,0,20,20)\n",
    "# add another cell\n",
    "pdf.cell(200, 30, txt = \"Summary\", ln = 1, align = 'C')\n",
    "pdf.set_font(\"Arial\", size = 12)\n",
    "#pdf.cell(180, 0, txt = text, ln = 1, align = 'C')\n",
    "pdf.multi_cell(180, 5, txt = text)\n",
    "# save the pdf with name .pdf\n",
    "pdf.cell(200, 10, txt = \"Keywords\", ln = 1, align = 'C')\n",
    "for item in sample_list:\n",
    "    pdf.cell(200, 5, txt = item, ln = 1, align = 'C')\n",
    "pdf.cell(200, 10, txt = \"Formulas\", ln = 1, align = 'C')\n",
    "for item in sample_list:\n",
    "    pdf.cell(200, 10, txt = item, ln = 1, align = 'C')\n",
    "\n",
    "\n",
    "for item in q_ans_list:\n",
    "    pdf.cell(200, 5, txt = item[0]+'-'+item[1], ln = 1, align = 'C')\n",
    "    \n",
    "pdf.output(\"GFG.pdf\")"
   ]
  },
  {
   "cell_type": "code",
   "execution_count": null,
   "metadata": {},
   "outputs": [],
   "source": []
  },
  {
   "cell_type": "code",
   "execution_count": null,
   "metadata": {},
   "outputs": [],
   "source": []
  }
 ],
 "metadata": {
  "kernelspec": {
   "display_name": "Python 3",
   "language": "python",
   "name": "python3"
  },
  "language_info": {
   "codemirror_mode": {
    "name": "ipython",
    "version": 3
   },
   "file_extension": ".py",
   "mimetype": "text/x-python",
   "name": "python",
   "nbconvert_exporter": "python",
   "pygments_lexer": "ipython3",
   "version": "3.8.5"
  }
 },
 "nbformat": 4,
 "nbformat_minor": 4
}
